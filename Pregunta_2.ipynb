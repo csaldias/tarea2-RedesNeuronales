{
  "nbformat": 4,
  "nbformat_minor": 0,
  "metadata": {
    "colab": {
      "name": "Pregunta 2 T2.ipynb",
      "version": "0.3.2",
      "provenance": [],
      "collapsed_sections": []
    },
    "kernelspec": {
      "name": "python3",
      "display_name": "Python 3"
    }
  },
  "cells": [
    {
      "metadata": {
        "id": "y1nKd0EnQYln",
        "colab_type": "text"
      },
      "cell_type": "markdown",
      "source": [
        "## Pregunta 2: Redes recurrentes sobre texto"
      ]
    },
    {
      "metadata": {
        "id": "5jck5F1qxi8x",
        "colab_type": "text"
      },
      "cell_type": "markdown",
      "source": [
        "> **Parte a)**"
      ]
    },
    {
      "metadata": {
        "id": "djSAszOqR7in",
        "colab_type": "code",
        "colab": {}
      },
      "cell_type": "code",
      "source": [
        "import numpy as np\n",
        "from collections import Counter\n",
        "import operator\n",
        "import pandas as pd\n",
        "import matplotlib.pyplot as plt\n",
        "from timeit import default_timer as timer\n",
        "\n",
        "from keras.preprocessing import sequence\n",
        "from keras.utils import to_categorical\n",
        "from sklearn.model_selection import train_test_split\n",
        "\n",
        "from keras.models import Sequential\n",
        "from keras.layers import LSTM, Embedding, Dense, Dropout"
      ],
      "execution_count": 0,
      "outputs": []
    },
    {
      "metadata": {
        "id": "s7rwj9saL5mA",
        "colab_type": "code",
        "colab": {
          "base_uri": "https://localhost:8080/",
          "height": 34
        },
        "outputId": "a7d2d880-8df4-48aa-caa2-517aec8317d7"
      },
      "cell_type": "code",
      "source": [
        "link = 'http://vps.csaldias.cl/ner.csv'\n",
        "df_ner = pd.read_csv(link, error_bad_lines=False, encoding='Latin-1')\n",
        "df_ner.dropna(inplace=True)"
      ],
      "execution_count": 54,
      "outputs": [
        {
          "output_type": "stream",
          "text": [
            "b'Skipping line 281837: expected 25 fields, saw 34\\n'\n"
          ],
          "name": "stderr"
        }
      ]
    },
    {
      "metadata": {
        "id": "VQodVsGHU6RA",
        "colab_type": "code",
        "colab": {
          "base_uri": "https://localhost:8080/",
          "height": 307
        },
        "outputId": "d24f5e2a-7a98-4d7c-a1fb-ed8aa7dc1561"
      },
      "cell_type": "code",
      "source": [
        "df_ner.head()"
      ],
      "execution_count": 55,
      "outputs": [
        {
          "output_type": "execute_result",
          "data": {
            "text/html": [
              "<div>\n",
              "<style scoped>\n",
              "    .dataframe tbody tr th:only-of-type {\n",
              "        vertical-align: middle;\n",
              "    }\n",
              "\n",
              "    .dataframe tbody tr th {\n",
              "        vertical-align: top;\n",
              "    }\n",
              "\n",
              "    .dataframe thead th {\n",
              "        text-align: right;\n",
              "    }\n",
              "</style>\n",
              "<table border=\"1\" class=\"dataframe\">\n",
              "  <thead>\n",
              "    <tr style=\"text-align: right;\">\n",
              "      <th></th>\n",
              "      <th>Unnamed: 0</th>\n",
              "      <th>lemma</th>\n",
              "      <th>next-lemma</th>\n",
              "      <th>next-next-lemma</th>\n",
              "      <th>next-next-pos</th>\n",
              "      <th>next-next-shape</th>\n",
              "      <th>next-next-word</th>\n",
              "      <th>next-pos</th>\n",
              "      <th>next-shape</th>\n",
              "      <th>next-word</th>\n",
              "      <th>...</th>\n",
              "      <th>prev-prev-lemma</th>\n",
              "      <th>prev-prev-pos</th>\n",
              "      <th>prev-prev-shape</th>\n",
              "      <th>prev-prev-word</th>\n",
              "      <th>prev-shape</th>\n",
              "      <th>prev-word</th>\n",
              "      <th>sentence_idx</th>\n",
              "      <th>shape</th>\n",
              "      <th>word</th>\n",
              "      <th>tag</th>\n",
              "    </tr>\n",
              "  </thead>\n",
              "  <tbody>\n",
              "    <tr>\n",
              "      <th>0</th>\n",
              "      <td>0</td>\n",
              "      <td>thousand</td>\n",
              "      <td>of</td>\n",
              "      <td>demonstr</td>\n",
              "      <td>NNS</td>\n",
              "      <td>lowercase</td>\n",
              "      <td>demonstrators</td>\n",
              "      <td>IN</td>\n",
              "      <td>lowercase</td>\n",
              "      <td>of</td>\n",
              "      <td>...</td>\n",
              "      <td>__start2__</td>\n",
              "      <td>__START2__</td>\n",
              "      <td>wildcard</td>\n",
              "      <td>__START2__</td>\n",
              "      <td>wildcard</td>\n",
              "      <td>__START1__</td>\n",
              "      <td>1.0</td>\n",
              "      <td>capitalized</td>\n",
              "      <td>Thousands</td>\n",
              "      <td>O</td>\n",
              "    </tr>\n",
              "    <tr>\n",
              "      <th>1</th>\n",
              "      <td>1</td>\n",
              "      <td>of</td>\n",
              "      <td>demonstr</td>\n",
              "      <td>have</td>\n",
              "      <td>VBP</td>\n",
              "      <td>lowercase</td>\n",
              "      <td>have</td>\n",
              "      <td>NNS</td>\n",
              "      <td>lowercase</td>\n",
              "      <td>demonstrators</td>\n",
              "      <td>...</td>\n",
              "      <td>__start1__</td>\n",
              "      <td>__START1__</td>\n",
              "      <td>wildcard</td>\n",
              "      <td>__START1__</td>\n",
              "      <td>capitalized</td>\n",
              "      <td>Thousands</td>\n",
              "      <td>1.0</td>\n",
              "      <td>lowercase</td>\n",
              "      <td>of</td>\n",
              "      <td>O</td>\n",
              "    </tr>\n",
              "    <tr>\n",
              "      <th>2</th>\n",
              "      <td>2</td>\n",
              "      <td>demonstr</td>\n",
              "      <td>have</td>\n",
              "      <td>march</td>\n",
              "      <td>VBN</td>\n",
              "      <td>lowercase</td>\n",
              "      <td>marched</td>\n",
              "      <td>VBP</td>\n",
              "      <td>lowercase</td>\n",
              "      <td>have</td>\n",
              "      <td>...</td>\n",
              "      <td>thousand</td>\n",
              "      <td>NNS</td>\n",
              "      <td>capitalized</td>\n",
              "      <td>Thousands</td>\n",
              "      <td>lowercase</td>\n",
              "      <td>of</td>\n",
              "      <td>1.0</td>\n",
              "      <td>lowercase</td>\n",
              "      <td>demonstrators</td>\n",
              "      <td>O</td>\n",
              "    </tr>\n",
              "    <tr>\n",
              "      <th>3</th>\n",
              "      <td>3</td>\n",
              "      <td>have</td>\n",
              "      <td>march</td>\n",
              "      <td>through</td>\n",
              "      <td>IN</td>\n",
              "      <td>lowercase</td>\n",
              "      <td>through</td>\n",
              "      <td>VBN</td>\n",
              "      <td>lowercase</td>\n",
              "      <td>marched</td>\n",
              "      <td>...</td>\n",
              "      <td>of</td>\n",
              "      <td>IN</td>\n",
              "      <td>lowercase</td>\n",
              "      <td>of</td>\n",
              "      <td>lowercase</td>\n",
              "      <td>demonstrators</td>\n",
              "      <td>1.0</td>\n",
              "      <td>lowercase</td>\n",
              "      <td>have</td>\n",
              "      <td>O</td>\n",
              "    </tr>\n",
              "    <tr>\n",
              "      <th>4</th>\n",
              "      <td>4</td>\n",
              "      <td>march</td>\n",
              "      <td>through</td>\n",
              "      <td>london</td>\n",
              "      <td>NNP</td>\n",
              "      <td>capitalized</td>\n",
              "      <td>London</td>\n",
              "      <td>IN</td>\n",
              "      <td>lowercase</td>\n",
              "      <td>through</td>\n",
              "      <td>...</td>\n",
              "      <td>demonstr</td>\n",
              "      <td>NNS</td>\n",
              "      <td>lowercase</td>\n",
              "      <td>demonstrators</td>\n",
              "      <td>lowercase</td>\n",
              "      <td>have</td>\n",
              "      <td>1.0</td>\n",
              "      <td>lowercase</td>\n",
              "      <td>marched</td>\n",
              "      <td>O</td>\n",
              "    </tr>\n",
              "  </tbody>\n",
              "</table>\n",
              "<p>5 rows × 25 columns</p>\n",
              "</div>"
            ],
            "text/plain": [
              "   Unnamed: 0     lemma next-lemma next-next-lemma next-next-pos  \\\n",
              "0           0  thousand         of        demonstr           NNS   \n",
              "1           1        of   demonstr            have           VBP   \n",
              "2           2  demonstr       have           march           VBN   \n",
              "3           3      have      march         through            IN   \n",
              "4           4     march    through          london           NNP   \n",
              "\n",
              "  next-next-shape next-next-word next-pos next-shape      next-word ...  \\\n",
              "0       lowercase  demonstrators       IN  lowercase             of ...   \n",
              "1       lowercase           have      NNS  lowercase  demonstrators ...   \n",
              "2       lowercase        marched      VBP  lowercase           have ...   \n",
              "3       lowercase        through      VBN  lowercase        marched ...   \n",
              "4     capitalized         London       IN  lowercase        through ...   \n",
              "\n",
              "  prev-prev-lemma prev-prev-pos prev-prev-shape prev-prev-word   prev-shape  \\\n",
              "0      __start2__    __START2__        wildcard     __START2__     wildcard   \n",
              "1      __start1__    __START1__        wildcard     __START1__  capitalized   \n",
              "2        thousand           NNS     capitalized      Thousands    lowercase   \n",
              "3              of            IN       lowercase             of    lowercase   \n",
              "4        demonstr           NNS       lowercase  demonstrators    lowercase   \n",
              "\n",
              "       prev-word sentence_idx        shape           word tag  \n",
              "0     __START1__          1.0  capitalized      Thousands   O  \n",
              "1      Thousands          1.0    lowercase             of   O  \n",
              "2             of          1.0    lowercase  demonstrators   O  \n",
              "3  demonstrators          1.0    lowercase           have   O  \n",
              "4           have          1.0    lowercase        marched   O  \n",
              "\n",
              "[5 rows x 25 columns]"
            ]
          },
          "metadata": {
            "tags": []
          },
          "execution_count": 55
        }
      ]
    },
    {
      "metadata": {
        "id": "2pcIM7l6lAnr",
        "colab_type": "code",
        "colab": {}
      },
      "cell_type": "code",
      "source": [
        "dataset = df_ner.loc[:, [\"lemma\", \"pos\", \"tag\", \"prev-iob\"]]"
      ],
      "execution_count": 0,
      "outputs": []
    },
    {
      "metadata": {
        "id": "5UbB3bZ6Vz4K",
        "colab_type": "code",
        "colab": {}
      },
      "cell_type": "code",
      "source": [
        "dataX,dataY = [],[]\n",
        "#uniques\n",
        "lemmas,labels = set(), set()\n",
        "sentence= []\n",
        "label_sentence = []\n",
        "\n",
        "for fila in dataset.values:\n",
        "    if fila[-1]==\"__START1__\": \n",
        "        dataX.append(np.asarray(sentence))\n",
        "        dataY.append(np.asarray(label_sentence))\n",
        "        sentence= []\n",
        "        label_sentence = []\n",
        "    lemmas.add(fila[0])\n",
        "    labels.add(fila[1])\n",
        "    sentence.append(fila[0])#add lemma\n",
        "    label_sentence.append(fila[1]) #POS o TAG\n",
        "#data to  array\n",
        "dataX = np.asarray(dataX[1:])\n",
        "dataY = np.asarray(dataY[1:])"
      ],
      "execution_count": 0,
      "outputs": []
    },
    {
      "metadata": {
        "id": "dr_mciqTx7L6",
        "colab_type": "text"
      },
      "cell_type": "markdown",
      "source": [
        "> **Parte b)**"
      ]
    },
    {
      "metadata": {
        "id": "WmeMHIRtx6nf",
        "colab_type": "code",
        "colab": {
          "base_uri": "https://localhost:8080/",
          "height": 376
        },
        "outputId": "690a33a1-20d0-4e1d-b34c-8dff3cf3da63"
      },
      "cell_type": "code",
      "source": [
        "length = lambda x: len(x)\n",
        "vfunc = np.vectorize(length)\n",
        "word_lenghts = vfunc(dataX)\n",
        "\n",
        "n, bins, patches = plt.hist(word_lenghts, 50, density=True, facecolor='g', alpha=0.75)\n",
        "\n",
        "plt.xlabel('Largo de Palabra')\n",
        "plt.ylabel('Probabilidad')\n",
        "plt.title('Histograma de Largos de Palabras')\n",
        "#plt.axis([40, 160, 0, 0.03])\n",
        "plt.grid(True)\n",
        "plt.show()"
      ],
      "execution_count": 58,
      "outputs": [
        {
          "output_type": "display_data",
          "data": {
            "image/png": "[encoded data removed]",
            "text/plain": [
              "<matplotlib.figure.Figure at 0x7f4d30a9c780>"
            ]
          },
          "metadata": {
            "tags": []
          }
        }
      ]
    },
    {
      "metadata": {
        "id": "hReLFoXrn5vf",
        "colab_type": "code",
        "colab": {
          "base_uri": "https://localhost:8080/",
          "height": 380
        },
        "outputId": "9ec94018-ab58-4cd4-88a2-223224428511"
      },
      "cell_type": "code",
      "source": [
        "word_freq = {}\n",
        "for i in dataX:\n",
        "    for j in i:\n",
        "        if j in word_freq:\n",
        "            word_freq[j] += 1\n",
        "        else:\n",
        "            word_freq[j] = 1\n",
        "\n",
        "sorted_freq = (sorted(word_freq.items(), key = operator.itemgetter(1), reverse=True))\n",
        "\n",
        "just_the_occur = []\n",
        "just_the_rank = []\n",
        "\n",
        "entry_num = 0\n",
        "for entry in sorted_freq:\n",
        "    just_the_rank.append(entry_num)\n",
        "    entry_num += 1\n",
        "    just_the_occur.append(entry[1])\n",
        "\n",
        "plt.title(\"Frecuencia de Palabras en Dataset\")\n",
        "plt.ylabel(\"Frecuencia de  Occurrencias (log)\")\n",
        "plt.xlabel(\"Ranking de palabras (log)\")\n",
        "plt.loglog(\n",
        "    just_the_rank,\n",
        "    just_the_occur,\n",
        "    basex=10\n",
        ")\n",
        "plt.show()"
      ],
      "execution_count": 59,
      "outputs": [
        {
          "output_type": "display_data",
          "data": {
            "image/png": "[encoded data removed]",
            "text/plain": [
              "<matplotlib.figure.Figure at 0x7f4d1df9b320>"
            ]
          },
          "metadata": {
            "tags": []
          }
        }
      ]
    },
    {
      "metadata": {
        "id": "6AQDPIW0iWwd",
        "colab_type": "text"
      },
      "cell_type": "markdown",
      "source": [
        "> **Parte c)**"
      ]
    },
    {
      "metadata": {
        "id": "pPwtlnzQlG7g",
        "colab_type": "code",
        "colab": {
          "base_uri": "https://localhost:8080/",
          "height": 34
        },
        "outputId": "9373d82b-7c33-4cfc-973e-79d41ebff305"
      },
      "cell_type": "code",
      "source": [
        "max_length = 0\n",
        "for palabra in dataX:\n",
        "    max_length = max(len(palabra), max_length)\n",
        "print(max_length)"
      ],
      "execution_count": 70,
      "outputs": [
        {
          "output_type": "stream",
          "text": [
            "81\n"
          ],
          "name": "stdout"
        }
      ]
    },
    {
      "metadata": {
        "id": "UXFcieyHUm21",
        "colab_type": "code",
        "colab": {}
      },
      "cell_type": "code",
      "source": [
        "#lemma -> ENDLEMMA\n",
        "lemmas.add(\"ENDLEMMA\")\n",
        "#labels -> ENDLABELS\n",
        "labels.add(\"ENDLABELS\")\n",
        "lemma2idx = {w: i for i, w in enumerate(lemmas)} #Converting text to numbers\n",
        "lab2idx = {t: i for i, t in enumerate(labels)}\n",
        "dataX = [[lemma2idx[lemma] for lemma in sentence ] for sentence in dataX]\n",
        "dataY = [[lab2idx[pos] for pos in pos_tags ] for pos_tags in dataY]\n",
        "n_lemmas = len(lemmas)\n",
        "n_labels = len(labels)"
      ],
      "execution_count": 0,
      "outputs": []
    },
    {
      "metadata": {
        "id": "5Te7Z8LClqe-",
        "colab_type": "code",
        "colab": {}
      },
      "cell_type": "code",
      "source": [
        "X = sequence.pad_sequences(dataX,maxlen=max_length,padding='post',value=lemma2idx[\"ENDLEMMA\"]) \n",
        "y = sequence.pad_sequences(dataY,maxlen=max_length,padding='post',value=lab2idx[\"ENDLABELS\"])"
      ],
      "execution_count": 0,
      "outputs": []
    },
    {
      "metadata": {
        "id": "7Gf9799rux6K",
        "colab_type": "code",
        "colab": {
          "base_uri": "https://localhost:8080/",
          "height": 136
        },
        "outputId": "cc6567bb-fa22-429b-aa7e-feee21d8b880"
      },
      "cell_type": "code",
      "source": [
        "print(X[0])"
      ],
      "execution_count": 63,
      "outputs": [
        {
          "output_type": "stream",
          "text": [
            "[11661  2065  4499  8465  5834 10312 17666  5449 18784 11901 19491  8544\n",
            "  9291 10212  6932 11901 18292  2065 17508 11712   655  6446 18867 20023\n",
            "  6112  6112  6112  6112  6112  6112  6112  6112  6112  6112  6112  6112\n",
            "  6112  6112  6112  6112  6112  6112  6112  6112  6112  6112  6112  6112\n",
            "  6112  6112  6112  6112  6112  6112  6112  6112  6112  6112  6112  6112\n",
            "  6112  6112  6112  6112  6112  6112  6112  6112  6112  6112  6112  6112\n",
            "  6112  6112  6112  6112  6112  6112  6112  6112  6112]\n"
          ],
          "name": "stdout"
        }
      ]
    },
    {
      "metadata": {
        "id": "uN0IKuWUuNQa",
        "colab_type": "text"
      },
      "cell_type": "markdown",
      "source": [
        "> **Parte e)**"
      ]
    },
    {
      "metadata": {
        "id": "3pomsVjBmFgG",
        "colab_type": "code",
        "colab": {}
      },
      "cell_type": "code",
      "source": [
        "y = np.asarray([to_categorical(i, num_classes=n_labels) for i in y])\n",
        "X_train, X_test, y_train, y_test = train_test_split(X, y, test_size=0.3,random_state=22)"
      ],
      "execution_count": 0,
      "outputs": []
    },
    {
      "metadata": {
        "id": "SiOruIjRwcwa",
        "colab_type": "text"
      },
      "cell_type": "markdown",
      "source": [
        "> **Parte f)**"
      ]
    },
    {
      "metadata": {
        "id": "3HXazrGFuZ8O",
        "colab_type": "code",
        "colab": {
          "base_uri": "https://localhost:8080/",
          "height": 431
        },
        "outputId": "bde3475c-1d1d-4a84-a580-a3859129d52e"
      },
      "cell_type": "code",
      "source": [
        "embedding_vector = 32\n",
        "model = Sequential()\n",
        "model.add(Embedding(input_dim=n_lemmas, output_dim=embedding_vector, input_length=max_length))\n",
        "model.add(LSTM(units=100,return_sequences=True))\n",
        "model.add(Dense(n_labels, activation='softmax'))\n",
        "model.summary()\n",
        "model.compile(loss='categorical_crossentropy', optimizer='adam', metrics=['accuracy'])\n",
        "model.fit(X_train, y_train, validation_data=(X_test, y_test), epochs=3, batch_size=128)\n",
        "scores = model.evaluate(X_test, y_test, verbose=0)"
      ],
      "execution_count": 85,
      "outputs": [
        {
          "output_type": "stream",
          "text": [
            "_________________________________________________________________\n",
            "Layer (type)                 Output Shape              Param #   \n",
            "=================================================================\n",
            "embedding_1 (Embedding)      (None, 81, 32)            647808    \n",
            "_________________________________________________________________\n",
            "lstm_1 (LSTM)                (None, 81, 100)           53200     \n",
            "_________________________________________________________________\n",
            "dense_1 (Dense)              (None, 81, 42)            4242      \n",
            "=================================================================\n",
            "Total params: 705,250\n",
            "Trainable params: 705,250\n",
            "Non-trainable params: 0\n",
            "_________________________________________________________________\n"
          ],
          "name": "stdout"
        },
        {
          "output_type": "stream",
          "text": [
            "/usr/local/lib/python3.6/dist-packages/keras/models.py:981: UserWarning: The `nb_epoch` argument in `fit` has been renamed `epochs`.\n",
            "  warnings.warn('The `nb_epoch` argument in `fit` '\n"
          ],
          "name": "stderr"
        },
        {
          "output_type": "stream",
          "text": [
            "Train on 33656 samples, validate on 14425 samples\n",
            "Epoch 1/3\n",
            "33656/33656 [==============================] - 120s 4ms/step - loss: 1.0635 - acc: 0.7546 - val_loss: 0.7581 - val_acc: 0.8007\n",
            "Epoch 2/3\n",
            "28032/33656 [=======================>......] - ETA: 18s - loss: 0.6208 - acc: 0.8401"
          ],
          "name": "stdout"
        },
        {
          "output_type": "stream",
          "text": [
            "33656/33656 [==============================] - 120s 4ms/step - loss: 0.5854 - acc: 0.8478 - val_loss: 0.3811 - val_acc: 0.8930\n",
            "Epoch 3/3\n",
            "33656/33656 [==============================] - 120s 4ms/step - loss: 0.2514 - acc: 0.9327 - val_loss: 0.1654 - val_acc: 0.9572\n"
          ],
          "name": "stdout"
        }
      ]
    },
    {
      "metadata": {
        "id": "lr8X4lWryvDb",
        "colab_type": "code",
        "colab": {
          "base_uri": "https://localhost:8080/",
          "height": 51
        },
        "outputId": "4a382caf-5ce7-41aa-d74a-88544c66938e"
      },
      "cell_type": "code",
      "source": [
        "print(\"Loss: {:.4f}\".format(scores[0]))\n",
        "print(\"Accuracy: {:.2f}%\".format(scores[1]*100))"
      ],
      "execution_count": 94,
      "outputs": [
        {
          "output_type": "stream",
          "text": [
            "Loss: 0.1654\n",
            "Accuracy: 95.72%\n"
          ],
          "name": "stdout"
        }
      ]
    },
    {
      "metadata": {
        "id": "lNw51xPT4IqF",
        "colab_type": "code",
        "colab": {
          "base_uri": "https://localhost:8080/",
          "height": 34
        },
        "outputId": "6f7a7588-a1a3-4a10-e8d3-c8c7d1f5f812"
      },
      "cell_type": "code",
      "source": [
        "scores"
      ],
      "execution_count": 92,
      "outputs": [
        {
          "output_type": "execute_result",
          "data": {
            "text/plain": [
              "[0.16535402641862476, 0.9572064965105965]"
            ]
          },
          "metadata": {
            "tags": []
          },
          "execution_count": 92
        }
      ]
    },
    {
      "metadata": {
        "id": "Rd2hp17Y-J9e",
        "colab_type": "text"
      },
      "cell_type": "markdown",
      "source": [
        "> **Parte g)**"
      ]
    },
    {
      "metadata": {
        "id": "zwcOIOH18fcI",
        "colab_type": "code",
        "colab": {
          "base_uri": "https://localhost:8080/",
          "height": 1873
        },
        "outputId": "5190c7a9-facc-4e46-e51a-5f8a31064db9"
      },
      "cell_type": "code",
      "source": [
        "n_vector = 5\n",
        "embedding_vectors = np.logspace(start=0, stop=4, num=n_vector, base=10).astype(int)\n",
        "print(embedding_vectors)\n",
        "loss = {}\n",
        "acc = {}\n",
        "exec_time = {}\n",
        "for embedding_vector in embedding_vectors:\n",
        "    print(\"embedding_vector={}\".format(embedding_vector))\n",
        "    model = Sequential()\n",
        "    model.add(Embedding(input_dim=n_lemmas, output_dim=embedding_vector, input_length=max_length))\n",
        "    model.add(LSTM(units=100,return_sequences=True))\n",
        "    model.add(Dense(n_labels, activation='softmax'))\n",
        "    model.compile(loss='categorical_crossentropy', optimizer='adam', metrics=['accuracy'])\n",
        "    start = timer()\n",
        "    model.fit(X_train, y_train, validation_data=(X_test, y_test), epochs=3, batch_size=128)\n",
        "    end = timer()\n",
        "    scores = model.evaluate(X_test, y_test, verbose=0)\n",
        "    loss[embedding_vector] = scores[0]\n",
        "    acc[embedding_vector] = scores[1]\n",
        "    exec_time[embedding_vector] = end - start"
      ],
      "execution_count": 100,
      "outputs": [
        {
          "output_type": "stream",
          "text": [
            "[    1    10   100  1000 10000]\n",
            "embedding_vector=1\n",
            "_________________________________________________________________\n",
            "Layer (type)                 Output Shape              Param #   \n",
            "=================================================================\n",
            "embedding_7 (Embedding)      (None, 81, 1)             20244     \n",
            "_________________________________________________________________\n",
            "lstm_2 (LSTM)                (None, 81, 100)           40800     \n",
            "_________________________________________________________________\n",
            "dense_2 (Dense)              (None, 81, 42)            4242      \n",
            "=================================================================\n",
            "Total params: 65,286\n",
            "Trainable params: 65,286\n",
            "Non-trainable params: 0\n",
            "_________________________________________________________________\n",
            "Train on 33656 samples, validate on 14425 samples\n",
            "Epoch 1/3\n",
            "13568/33656 [===========>..................] - ETA: 1:00 - loss: 1.4941 - acc: 0.7253"
          ],
          "name": "stdout"
        },
        {
          "output_type": "stream",
          "text": [
            "33656/33656 [==============================] - 111s 3ms/step - loss: 1.1865 - acc: 0.7338 - val_loss: 0.9108 - val_acc: 0.7497\n",
            "Epoch 2/3\n",
            "33656/33656 [==============================] - 110s 3ms/step - loss: 0.8328 - acc: 0.7659 - val_loss: 0.7822 - val_acc: 0.7775\n",
            "Epoch 3/3\n",
            " 9984/33656 [=======>......................] - ETA: 1:10 - loss: 0.7681 - acc: 0.7799"
          ],
          "name": "stdout"
        },
        {
          "output_type": "stream",
          "text": [
            "33656/33656 [==============================] - 110s 3ms/step - loss: 0.7445 - acc: 0.7907 - val_loss: 0.7057 - val_acc: 0.8087\n",
            "embedding_vector=10\n",
            "_________________________________________________________________\n",
            "Layer (type)                 Output Shape              Param #   \n",
            "=================================================================\n",
            "embedding_8 (Embedding)      (None, 81, 10)            202440    \n",
            "_________________________________________________________________\n",
            "lstm_3 (LSTM)                (None, 81, 100)           44400     \n",
            "_________________________________________________________________\n",
            "dense_3 (Dense)              (None, 81, 42)            4242      \n",
            "=================================================================\n",
            "Total params: 251,082\n",
            "Trainable params: 251,082\n",
            "Non-trainable params: 0\n",
            "_________________________________________________________________\n",
            "Train on 33656 samples, validate on 14425 samples\n",
            "Epoch 1/3\n",
            "10240/33656 [========>.....................] - ETA: 1:13 - loss: 1.6242 - acc: 0.7152"
          ],
          "name": "stdout"
        },
        {
          "output_type": "stream",
          "text": [
            "33656/33656 [==============================] - 114s 3ms/step - loss: 1.1335 - acc: 0.7397 - val_loss: 0.8108 - val_acc: 0.7741\n",
            "Epoch 2/3\n",
            "33656/33656 [==============================] - 114s 3ms/step - loss: 0.7286 - acc: 0.8025 - val_loss: 0.6066 - val_acc: 0.8289\n",
            "Epoch 3/3\n",
            " 9088/33656 [=======>......................] - ETA: 1:15 - loss: 0.5566 - acc: 0.8383"
          ],
          "name": "stdout"
        },
        {
          "output_type": "stream",
          "text": [
            "33656/33656 [==============================] - 114s 3ms/step - loss: 0.4707 - acc: 0.8642 - val_loss: 0.3714 - val_acc: 0.8924\n",
            "embedding_vector=100\n",
            "_________________________________________________________________\n",
            "Layer (type)                 Output Shape              Param #   \n",
            "=================================================================\n",
            "embedding_9 (Embedding)      (None, 81, 100)           2024400   \n",
            "_________________________________________________________________\n",
            "lstm_4 (LSTM)                (None, 81, 100)           80400     \n",
            "_________________________________________________________________\n",
            "dense_4 (Dense)              (None, 81, 42)            4242      \n",
            "=================================================================\n",
            "Total params: 2,109,042\n",
            "Trainable params: 2,109,042\n",
            "Non-trainable params: 0\n",
            "_________________________________________________________________\n",
            "Train on 33656 samples, validate on 14425 samples\n",
            "Epoch 1/3\n",
            "10112/33656 [========>.....................] - ETA: 1:31 - loss: 1.4683 - acc: 0.7274"
          ],
          "name": "stdout"
        },
        {
          "output_type": "stream",
          "text": [
            "33656/33656 [==============================] - 143s 4ms/step - loss: 0.9933 - acc: 0.7700 - val_loss: 0.6298 - val_acc: 0.8421\n",
            "Epoch 2/3\n",
            "33656/33656 [==============================] - 143s 4ms/step - loss: 0.3427 - acc: 0.9149 - val_loss: 0.1682 - val_acc: 0.9589\n",
            "Epoch 3/3\n",
            " 9088/33656 [=======>......................] - ETA: 1:34 - loss: 0.1472 - acc: 0.9626"
          ],
          "name": "stdout"
        },
        {
          "output_type": "stream",
          "text": [
            "33656/33656 [==============================] - 142s 4ms/step - loss: 0.1221 - acc: 0.9671 - val_loss: 0.1035 - val_acc: 0.9699\n",
            "embedding_vector=1000\n",
            "_________________________________________________________________\n",
            "Layer (type)                 Output Shape              Param #   \n",
            "=================================================================\n",
            "embedding_10 (Embedding)     (None, 81, 1000)          20244000  \n",
            "_________________________________________________________________\n",
            "lstm_5 (LSTM)                (None, 81, 100)           440400    \n",
            "_________________________________________________________________\n",
            "dense_5 (Dense)              (None, 81, 42)            4242      \n",
            "=================================================================\n",
            "Total params: 20,688,642\n",
            "Trainable params: 20,688,642\n",
            "Non-trainable params: 0\n",
            "_________________________________________________________________\n",
            "Train on 33656 samples, validate on 14425 samples\n",
            "Epoch 1/3\n",
            "10112/33656 [========>.....................] - ETA: 4:49 - loss: 1.0794 - acc: 0.7876"
          ],
          "name": "stdout"
        },
        {
          "output_type": "stream",
          "text": [
            "33656/33656 [==============================] - 458s 14ms/step - loss: 0.5426 - acc: 0.8832 - val_loss: 0.1307 - val_acc: 0.9640\n",
            "Epoch 2/3\n",
            "33656/33656 [==============================] - 455s 14ms/step - loss: 0.0918 - acc: 0.9726 - val_loss: 0.0806 - val_acc: 0.9742\n",
            "Epoch 3/3\n",
            " 8832/33656 [======>.......................] - ETA: 4:58 - loss: 0.0680 - acc: 0.9779"
          ],
          "name": "stdout"
        },
        {
          "output_type": "stream",
          "text": [
            "33656/33656 [==============================] - 455s 14ms/step - loss: 0.0649 - acc: 0.9786 - val_loss: 0.0703 - val_acc: 0.9768\n",
            "embedding_vector=10000\n",
            "_________________________________________________________________\n",
            "Layer (type)                 Output Shape              Param #   \n",
            "=================================================================\n",
            "embedding_11 (Embedding)     (None, 81, 10000)         202440000 \n",
            "_________________________________________________________________\n",
            "lstm_6 (LSTM)                (None, 81, 100)           4040400   \n",
            "_________________________________________________________________\n",
            "dense_6 (Dense)              (None, 81, 42)            4242      \n",
            "=================================================================\n",
            "Total params: 206,484,642\n",
            "Trainable params: 206,484,642\n",
            "Non-trainable params: 0\n",
            "_________________________________________________________________\n"
          ],
          "name": "stdout"
        },
        {
          "output_type": "stream",
          "text": [
            "/usr/local/lib/python3.6/dist-packages/tensorflow/python/ops/gradients_impl.py:97: UserWarning: Converting sparse IndexedSlices to a dense Tensor with 202440000 elements. This may consume a large amount of memory.\n",
            "  num_elements)\n"
          ],
          "name": "stderr"
        },
        {
          "output_type": "stream",
          "text": [
            "Train on 33656 samples, validate on 14425 samples\n",
            "Epoch 1/3\n",
            "33656/33656 [==============================] - 3560s 106ms/step - loss: 0.2543 - acc: 0.9378 - val_loss: 0.0838 - val_acc: 0.9735\n",
            "Epoch 2/3\n",
            "27392/33656 [=======================>......] - ETA: 9:43 - loss: 0.0678 - acc: 0.9779"
          ],
          "name": "stdout"
        },
        {
          "output_type": "stream",
          "text": [
            "33656/33656 [==============================] - 3543s 105ms/step - loss: 0.0667 - acc: 0.9781 - val_loss: 0.0671 - val_acc: 0.9776\n",
            "Epoch 3/3\n",
            "33656/33656 [==============================] - 3541s 105ms/step - loss: 0.0512 - acc: 0.9826 - val_loss: 0.0611 - val_acc: 0.9798\n"
          ],
          "name": "stdout"
        }
      ]
    },
    {
      "metadata": {
        "id": "_jIiI3zJ-vkp",
        "colab_type": "text"
      },
      "cell_type": "markdown",
      "source": [
        "Referencias:\n",
        "\n",
        "https://www.digitalocean.com/community/tutorials/how-to-graph-word-frequency-using-matplotlib-with-python-3\n"
      ]
    },
    {
      "metadata": {
        "id": "eILiRSg3-yp6",
        "colab_type": "code",
        "colab": {
          "base_uri": "https://localhost:8080/",
          "height": 102
        },
        "outputId": "36b8002b-fa1e-4e05-ba6a-77777b253f57"
      },
      "cell_type": "code",
      "source": [
        "for index in embedding_vectors:\n",
        "    print(\"Embedding Vector: {}\\tLoss: {:.4f}, Accuracy: {:.2f}%\".format(index, loss[index], acc[index]*100))"
      ],
      "execution_count": 102,
      "outputs": [
        {
          "output_type": "stream",
          "text": [
            "Embedding Vector: 1\tLoss: 0.7057, Accuracy: 80.87%\n",
            "Embedding Vector: 10\tLoss: 0.3714, Accuracy: 89.24%\n",
            "Embedding Vector: 100\tLoss: 0.1035, Accuracy: 96.99%\n",
            "Embedding Vector: 1000\tLoss: 0.0703, Accuracy: 97.68%\n",
            "Embedding Vector: 10000\tLoss: 0.0611, Accuracy: 97.98%\n"
          ],
          "name": "stdout"
        }
      ]
    },
    {
      "metadata": {
        "id": "r6BuGDSS2diD",
        "colab_type": "code",
        "colab": {}
      },
      "cell_type": "code",
      "source": [
        ""
      ],
      "execution_count": 0,
      "outputs": []
    }
  ]
}