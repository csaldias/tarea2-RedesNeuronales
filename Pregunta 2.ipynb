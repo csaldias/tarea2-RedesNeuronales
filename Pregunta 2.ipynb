{
 "cells": [
  {
   "cell_type": "markdown",
   "metadata": {
    "colab_type": "text",
    "id": "y1nKd0EnQYln"
   },
   "source": [
    "## Pregunta 2: Redes recurrentes sobre texto"
   ]
  },
  {
   "cell_type": "markdown",
   "metadata": {
    "colab_type": "text",
    "id": "5jck5F1qxi8x"
   },
   "source": [
    "> **Parte a)**"
   ]
  },
  {
   "cell_type": "code",
   "execution_count": 1,
   "metadata": {
    "colab": {
     "autoexec": {
      "startup": false,
      "wait_interval": 0
     }
    },
    "colab_type": "code",
    "id": "djSAszOqR7in"
   },
   "outputs": [
    {
     "name": "stderr",
     "output_type": "stream",
     "text": [
      "/home/difroggy/anaconda3/envs/redesneuronales/lib/python3.6/site-packages/h5py/__init__.py:36: FutureWarning: Conversion of the second argument of issubdtype from `float` to `np.floating` is deprecated. In future, it will be treated as `np.float64 == np.dtype(float).type`.\n",
      "  from ._conv import register_converters as _register_converters\n",
      "Using TensorFlow backend.\n"
     ]
    }
   ],
   "source": [
    "import numpy as np\n",
    "from collections import Counter\n",
    "import operator\n",
    "import pandas as pd\n",
    "import matplotlib.pyplot as plt\n",
    "from timeit import default_timer as timer\n",
    "from math import floor\n",
    "\n",
    "from keras.preprocessing import sequence\n",
    "from keras.utils import to_categorical\n",
    "from sklearn.model_selection import train_test_split\n",
    "\n",
    "from keras.models import Sequential\n",
    "from keras.layers import LSTM, Embedding, Dense, Dropout, Bidirectional"
   ]
  },
  {
   "cell_type": "code",
   "execution_count": 2,
   "metadata": {
    "colab": {
     "autoexec": {
      "startup": false,
      "wait_interval": 0
     },
     "base_uri": "https://localhost:8080/",
     "height": 34
    },
    "colab_type": "code",
    "executionInfo": {
     "elapsed": 8244,
     "status": "ok",
     "timestamp": 1527451706820,
     "user": {
      "displayName": "Camilo Saldías",
      "photoUrl": "//lh3.googleusercontent.com/-SmOp4sdfXXA/AAAAAAAAAAI/AAAAAAAAABk/i5HklS2EMWA/s50-c-k-no/photo.jpg",
      "userId": "115111596898363573343"
     },
     "user_tz": 240
    },
    "id": "s7rwj9saL5mA",
    "outputId": "1008be46-4d81-4e24-8c5d-46fb791917bb"
   },
   "outputs": [
    {
     "name": "stderr",
     "output_type": "stream",
     "text": [
      "b'Skipping line 281837: expected 25 fields, saw 34\\n'\n"
     ]
    }
   ],
   "source": [
    "link = 'https://github.com/csaldias/tarea2-RedesNeuronales/raw/master/entity-annotated-corpus/ner.tar.gz'\n",
    "df_ner = pd.read_csv(link, compression='gzip', error_bad_lines=False, encoding='Latin-1')\n",
    "df_ner.dropna(inplace=True)"
   ]
  },
  {
   "cell_type": "code",
   "execution_count": 6,
   "metadata": {
    "colab": {
     "autoexec": {
      "startup": false,
      "wait_interval": 0
     },
     "base_uri": "https://localhost:8080/",
     "height": 267
    },
    "colab_type": "code",
    "executionInfo": {
     "elapsed": 864,
     "status": "ok",
     "timestamp": 1527451756359,
     "user": {
      "displayName": "Camilo Saldías",
      "photoUrl": "//lh3.googleusercontent.com/-SmOp4sdfXXA/AAAAAAAAAAI/AAAAAAAAABk/i5HklS2EMWA/s50-c-k-no/photo.jpg",
      "userId": "115111596898363573343"
     },
     "user_tz": 240
    },
    "id": "VQodVsGHU6RA",
    "outputId": "5547142d-294b-4517-c305-0d83c44eee5a"
   },
   "outputs": [
    {
     "data": {
      "text/html": [
       "<div>\n",
       "<style scoped>\n",
       "    .dataframe tbody tr th:only-of-type {\n",
       "        vertical-align: middle;\n",
       "    }\n",
       "\n",
       "    .dataframe tbody tr th {\n",
       "        vertical-align: top;\n",
       "    }\n",
       "\n",
       "    .dataframe thead th {\n",
       "        text-align: right;\n",
       "    }\n",
       "</style>\n",
       "<table border=\"1\" class=\"dataframe\">\n",
       "  <thead>\n",
       "    <tr style=\"text-align: right;\">\n",
       "      <th></th>\n",
       "      <th>./._ner.csv</th>\n",
       "      <th>lemma</th>\n",
       "      <th>next-lemma</th>\n",
       "      <th>next-next-lemma</th>\n",
       "      <th>next-next-pos</th>\n",
       "      <th>next-next-shape</th>\n",
       "      <th>next-next-word</th>\n",
       "      <th>next-pos</th>\n",
       "      <th>next-shape</th>\n",
       "      <th>next-word</th>\n",
       "      <th>...</th>\n",
       "      <th>prev-prev-lemma</th>\n",
       "      <th>prev-prev-pos</th>\n",
       "      <th>prev-prev-shape</th>\n",
       "      <th>prev-prev-word</th>\n",
       "      <th>prev-shape</th>\n",
       "      <th>prev-word</th>\n",
       "      <th>sentence_idx</th>\n",
       "      <th>shape</th>\n",
       "      <th>word</th>\n",
       "      <th>tag</th>\n",
       "    </tr>\n",
       "  </thead>\n",
       "  <tbody>\n",
       "    <tr>\n",
       "      <th>0</th>\n",
       "      <td>0.0</td>\n",
       "      <td>thousand</td>\n",
       "      <td>of</td>\n",
       "      <td>demonstr</td>\n",
       "      <td>NNS</td>\n",
       "      <td>lowercase</td>\n",
       "      <td>demonstrators</td>\n",
       "      <td>IN</td>\n",
       "      <td>lowercase</td>\n",
       "      <td>of</td>\n",
       "      <td>...</td>\n",
       "      <td>__start2__</td>\n",
       "      <td>__START2__</td>\n",
       "      <td>wildcard</td>\n",
       "      <td>__START2__</td>\n",
       "      <td>wildcard</td>\n",
       "      <td>__START1__</td>\n",
       "      <td>1.0</td>\n",
       "      <td>capitalized</td>\n",
       "      <td>Thousands</td>\n",
       "      <td>O</td>\n",
       "    </tr>\n",
       "    <tr>\n",
       "      <th>1</th>\n",
       "      <td>1.0</td>\n",
       "      <td>of</td>\n",
       "      <td>demonstr</td>\n",
       "      <td>have</td>\n",
       "      <td>VBP</td>\n",
       "      <td>lowercase</td>\n",
       "      <td>have</td>\n",
       "      <td>NNS</td>\n",
       "      <td>lowercase</td>\n",
       "      <td>demonstrators</td>\n",
       "      <td>...</td>\n",
       "      <td>__start1__</td>\n",
       "      <td>__START1__</td>\n",
       "      <td>wildcard</td>\n",
       "      <td>__START1__</td>\n",
       "      <td>capitalized</td>\n",
       "      <td>Thousands</td>\n",
       "      <td>1.0</td>\n",
       "      <td>lowercase</td>\n",
       "      <td>of</td>\n",
       "      <td>O</td>\n",
       "    </tr>\n",
       "    <tr>\n",
       "      <th>2</th>\n",
       "      <td>2.0</td>\n",
       "      <td>demonstr</td>\n",
       "      <td>have</td>\n",
       "      <td>march</td>\n",
       "      <td>VBN</td>\n",
       "      <td>lowercase</td>\n",
       "      <td>marched</td>\n",
       "      <td>VBP</td>\n",
       "      <td>lowercase</td>\n",
       "      <td>have</td>\n",
       "      <td>...</td>\n",
       "      <td>thousand</td>\n",
       "      <td>NNS</td>\n",
       "      <td>capitalized</td>\n",
       "      <td>Thousands</td>\n",
       "      <td>lowercase</td>\n",
       "      <td>of</td>\n",
       "      <td>1.0</td>\n",
       "      <td>lowercase</td>\n",
       "      <td>demonstrators</td>\n",
       "      <td>O</td>\n",
       "    </tr>\n",
       "    <tr>\n",
       "      <th>3</th>\n",
       "      <td>3.0</td>\n",
       "      <td>have</td>\n",
       "      <td>march</td>\n",
       "      <td>through</td>\n",
       "      <td>IN</td>\n",
       "      <td>lowercase</td>\n",
       "      <td>through</td>\n",
       "      <td>VBN</td>\n",
       "      <td>lowercase</td>\n",
       "      <td>marched</td>\n",
       "      <td>...</td>\n",
       "      <td>of</td>\n",
       "      <td>IN</td>\n",
       "      <td>lowercase</td>\n",
       "      <td>of</td>\n",
       "      <td>lowercase</td>\n",
       "      <td>demonstrators</td>\n",
       "      <td>1.0</td>\n",
       "      <td>lowercase</td>\n",
       "      <td>have</td>\n",
       "      <td>O</td>\n",
       "    </tr>\n",
       "    <tr>\n",
       "      <th>4</th>\n",
       "      <td>4.0</td>\n",
       "      <td>march</td>\n",
       "      <td>through</td>\n",
       "      <td>london</td>\n",
       "      <td>NNP</td>\n",
       "      <td>capitalized</td>\n",
       "      <td>London</td>\n",
       "      <td>IN</td>\n",
       "      <td>lowercase</td>\n",
       "      <td>through</td>\n",
       "      <td>...</td>\n",
       "      <td>demonstr</td>\n",
       "      <td>NNS</td>\n",
       "      <td>lowercase</td>\n",
       "      <td>demonstrators</td>\n",
       "      <td>lowercase</td>\n",
       "      <td>have</td>\n",
       "      <td>1.0</td>\n",
       "      <td>lowercase</td>\n",
       "      <td>marched</td>\n",
       "      <td>O</td>\n",
       "    </tr>\n",
       "  </tbody>\n",
       "</table>\n",
       "<p>5 rows × 25 columns</p>\n",
       "</div>"
      ],
      "text/plain": [
       "   ./._ner.csv     lemma next-lemma next-next-lemma next-next-pos  \\\n",
       "0          0.0  thousand         of        demonstr           NNS   \n",
       "1          1.0        of   demonstr            have           VBP   \n",
       "2          2.0  demonstr       have           march           VBN   \n",
       "3          3.0      have      march         through            IN   \n",
       "4          4.0     march    through          london           NNP   \n",
       "\n",
       "  next-next-shape next-next-word next-pos next-shape      next-word ...  \\\n",
       "0       lowercase  demonstrators       IN  lowercase             of ...   \n",
       "1       lowercase           have      NNS  lowercase  demonstrators ...   \n",
       "2       lowercase        marched      VBP  lowercase           have ...   \n",
       "3       lowercase        through      VBN  lowercase        marched ...   \n",
       "4     capitalized         London       IN  lowercase        through ...   \n",
       "\n",
       "  prev-prev-lemma prev-prev-pos prev-prev-shape prev-prev-word   prev-shape  \\\n",
       "0      __start2__    __START2__        wildcard     __START2__     wildcard   \n",
       "1      __start1__    __START1__        wildcard     __START1__  capitalized   \n",
       "2        thousand           NNS     capitalized      Thousands    lowercase   \n",
       "3              of            IN       lowercase             of    lowercase   \n",
       "4        demonstr           NNS       lowercase  demonstrators    lowercase   \n",
       "\n",
       "       prev-word sentence_idx        shape           word tag  \n",
       "0     __START1__          1.0  capitalized      Thousands   O  \n",
       "1      Thousands          1.0    lowercase             of   O  \n",
       "2             of          1.0    lowercase  demonstrators   O  \n",
       "3  demonstrators          1.0    lowercase           have   O  \n",
       "4           have          1.0    lowercase        marched   O  \n",
       "\n",
       "[5 rows x 25 columns]"
      ]
     },
     "execution_count": 6,
     "metadata": {},
     "output_type": "execute_result"
    }
   ],
   "source": [
    "df_ner.head()"
   ]
  },
  {
   "cell_type": "markdown",
   "metadata": {},
   "source": [
    "La columna *word* contiene a la palabra exacta, en cambio *lemma* simplifica la entrada, ignorando mayúsculas y utilizando la preposición que identifica la palabra y su contenido, en lugar de la palabra completa."
   ]
  },
  {
   "cell_type": "code",
   "execution_count": 11,
   "metadata": {
    "colab": {
     "autoexec": {
      "startup": false,
      "wait_interval": 0
     }
    },
    "colab_type": "code",
    "id": "2pcIM7l6lAnr"
   },
   "outputs": [],
   "source": [
    "dataset = df_ner.loc[:, [\"lemma\", \"pos\", \"tag\", \"prev-iob\"]]"
   ]
  },
  {
   "cell_type": "markdown",
   "metadata": {},
   "source": [
    "Las definiciones de cada columna son:\n",
    "\n",
    "* *lemma*: Indica el 'tema' de la palabra, es decir, el significado general de la palabra en base al prefijo. (I.e. 'demonstr' para representar 'demonstrators' y 'demonstration'.)\n",
    "* *pos*: Anotación 'Part-of-speech'. Significa la función de la palabra. (Verbo, sustantivo, etc).\n",
    "* *tag*: Tag IOB, que indica si la palabra corresponde a una porción interna, externa o inicial (Inside-Outside-Beginning respectivamente). \n",
    "* *prev-iob*: Tag IOB de la palabra que precede a la palabra actual."
   ]
  },
  {
   "cell_type": "code",
   "execution_count": 11,
   "metadata": {
    "scrolled": true
   },
   "outputs": [
    {
     "data": {
      "text/plain": [
       "(1050794, 4)"
      ]
     },
     "execution_count": 11,
     "metadata": {},
     "output_type": "execute_result"
    }
   ],
   "source": [
    "dataset.shape"
   ]
  },
  {
   "cell_type": "markdown",
   "metadata": {},
   "source": [
    "La variable *dataset* sostiene 4 columnas de datos, con 1,050,794 palabras."
   ]
  },
  {
   "cell_type": "code",
   "execution_count": 12,
   "metadata": {
    "colab": {
     "autoexec": {
      "startup": false,
      "wait_interval": 0
     }
    },
    "colab_type": "code",
    "id": "5UbB3bZ6Vz4K"
   },
   "outputs": [],
   "source": [
    "dataX,dataY = [],[]\n",
    "#uniques\n",
    "lemmas,labels = set(), set()\n",
    "sentence= []\n",
    "label_sentence = []\n",
    "\n",
    "for fila in dataset.values:\n",
    "    if fila[-1]==\"__START1__\": \n",
    "        dataX.append(np.asarray(sentence))\n",
    "        dataY.append(np.asarray(label_sentence))\n",
    "        sentence= []\n",
    "        label_sentence = []\n",
    "    lemmas.add(fila[0])\n",
    "    labels.add(fila[1])\n",
    "    sentence.append(fila[0])#add lemma\n",
    "    label_sentence.append(fila[1]) #POS o TAG\n",
    "#data to  array\n",
    "dataX = np.asarray(dataX[1:])\n",
    "dataY = np.asarray(dataY[1:])"
   ]
  },
  {
   "cell_type": "code",
   "execution_count": 13,
   "metadata": {},
   "outputs": [
    {
     "name": "stdout",
     "output_type": "stream",
     "text": [
      "(48081,) (48081,)\n"
     ]
    }
   ],
   "source": [
    "print(dataX.shape,dataY.shape)"
   ]
  },
  {
   "cell_type": "markdown",
   "metadata": {},
   "source": [
    "Se posee un total de 48,081 entradas distintas (oraciones), cada una de estas con una cantidad variable de palabras."
   ]
  },
  {
   "cell_type": "markdown",
   "metadata": {
    "colab_type": "text",
    "id": "dr_mciqTx7L6"
   },
   "source": [
    "> **Parte b)**"
   ]
  },
  {
   "cell_type": "markdown",
   "metadata": {},
   "source": [
    "Se procede a graficar un histograma que presenta la probabilidad de que una palabra sea de un largo particular."
   ]
  },
  {
   "cell_type": "code",
   "execution_count": 8,
   "metadata": {
    "colab": {
     "autoexec": {
      "startup": false,
      "wait_interval": 0
     },
     "base_uri": "https://localhost:8080/",
     "height": 376
    },
    "colab_type": "code",
    "executionInfo": {
     "elapsed": 1001,
     "status": "ok",
     "timestamp": 1527451765873,
     "user": {
      "displayName": "Camilo Saldías",
      "photoUrl": "//lh3.googleusercontent.com/-SmOp4sdfXXA/AAAAAAAAAAI/AAAAAAAAABk/i5HklS2EMWA/s50-c-k-no/photo.jpg",
      "userId": "115111596898363573343"
     },
     "user_tz": 240
    },
    "id": "WmeMHIRtx6nf",
    "outputId": "ba910dd1-68c1-4b9f-cdf5-0ff34e9135c8"
   },
   "outputs": [
    {
     "data": {
      "image/png": "[encoded data removed]",
      "text/plain": [
       "<Figure size 432x288 with 1 Axes>"
      ]
     },
     "metadata": {},
     "output_type": "display_data"
    }
   ],
   "source": [
    "length = lambda x: len(x)\n",
    "vfunc = np.vectorize(length)\n",
    "word_lenghts = vfunc(dataX)\n",
    "\n",
    "n, bins, patches = plt.hist(word_lenghts, 50, density=True, facecolor='g', alpha=0.75)\n",
    "\n",
    "plt.xlabel('Largo de Palabra')\n",
    "plt.ylabel('Probabilidad')\n",
    "plt.title('Histograma de Largos de Palabras')\n",
    "#plt.axis([40, 160, 0, 0.03])\n",
    "plt.grid(True)\n",
    "plt.show()"
   ]
  },
  {
   "cell_type": "markdown",
   "metadata": {},
   "source": [
    "La forma del gráfico aparenta una distribución normal o gamma."
   ]
  },
  {
   "cell_type": "markdown",
   "metadata": {},
   "source": [
    "La ley de Zipf sostiene que la frecuencia con que una palabra aparece en un conjunto de oraciones es inversamente proporcional al lugar que ocupa en la tabla de frecuencia. Por ejemplo, la palabra que aparece en segundo lugar con mayor frecuencia, aparecerá la mitad de las veces que aparece la que ocupa el primer lugar."
   ]
  },
  {
   "cell_type": "markdown",
   "metadata": {},
   "source": [
    "Es decir, se tiene la siguiente función $$y=\\frac{1}{x}$$\n",
    "Aplicando logaritmo a la ecuación completa $$log(y)=-log(x)$$\n",
    "Se procede a graficar esta función."
   ]
  },
  {
   "cell_type": "code",
   "execution_count": 9,
   "metadata": {
    "colab": {
     "autoexec": {
      "startup": false,
      "wait_interval": 0
     },
     "base_uri": "https://localhost:8080/",
     "height": 380
    },
    "colab_type": "code",
    "executionInfo": {
     "elapsed": 2430,
     "status": "ok",
     "timestamp": 1527451770128,
     "user": {
      "displayName": "Camilo Saldías",
      "photoUrl": "//lh3.googleusercontent.com/-SmOp4sdfXXA/AAAAAAAAAAI/AAAAAAAAABk/i5HklS2EMWA/s50-c-k-no/photo.jpg",
      "userId": "115111596898363573343"
     },
     "user_tz": 240
    },
    "id": "hReLFoXrn5vf",
    "outputId": "08dfe608-0a6f-42f7-d2e7-f62774b6ae44"
   },
   "outputs": [
    {
     "data": {
      "image/png": "[encoded data removed]",
      "text/plain": [
       "<Figure size 432x288 with 1 Axes>"
      ]
     },
     "metadata": {},
     "output_type": "display_data"
    }
   ],
   "source": [
    "word_freq = {}\n",
    "for i in dataX:\n",
    "    for j in i:\n",
    "        if j in word_freq:\n",
    "            word_freq[j] += 1\n",
    "        else:\n",
    "            word_freq[j] = 1\n",
    "\n",
    "sorted_freq = (sorted(word_freq.items(), key = operator.itemgetter(1), reverse=True))\n",
    "\n",
    "just_the_occur = []\n",
    "just_the_rank = []\n",
    "\n",
    "entry_num = 0\n",
    "for entry in sorted_freq:\n",
    "    just_the_rank.append(entry_num)\n",
    "    entry_num += 1\n",
    "    just_the_occur.append(entry[1])\n",
    "\n",
    "plt.title(\"Frecuencia de Palabras en Dataset\")\n",
    "plt.ylabel(\"Frecuencia de  Occurrencias (log)\")\n",
    "plt.xlabel(\"Ranking de palabras (log)\")\n",
    "plt.loglog(\n",
    "    just_the_rank,\n",
    "    just_the_occur,\n",
    "    basex=10\n",
    ")\n",
    "plt.show()"
   ]
  },
  {
   "cell_type": "markdown",
   "metadata": {},
   "source": [
    "A pesar de ser una curva, el gráfico se aproxima a la recta con pendiente negativa que presenta la ley de Zipf por lo que se puede decir que se cumple."
   ]
  },
  {
   "cell_type": "markdown",
   "metadata": {
    "colab_type": "text",
    "id": "6AQDPIW0iWwd"
   },
   "source": [
    "> **Parte c)**"
   ]
  },
  {
   "cell_type": "markdown",
   "metadata": {},
   "source": [
    "Se calcula la oración de largo máximo."
   ]
  },
  {
   "cell_type": "code",
   "execution_count": 13,
   "metadata": {
    "colab": {
     "autoexec": {
      "startup": false,
      "wait_interval": 0
     },
     "base_uri": "https://localhost:8080/",
     "height": 34
    },
    "colab_type": "code",
    "executionInfo": {
     "elapsed": 609,
     "status": "ok",
     "timestamp": 1527451774133,
     "user": {
      "displayName": "Camilo Saldías",
      "photoUrl": "//lh3.googleusercontent.com/-SmOp4sdfXXA/AAAAAAAAAAI/AAAAAAAAABk/i5HklS2EMWA/s50-c-k-no/photo.jpg",
      "userId": "115111596898363573343"
     },
     "user_tz": 240
    },
    "id": "pPwtlnzQlG7g",
    "outputId": "89352635-c048-476b-8a10-509853c0227a"
   },
   "outputs": [
    {
     "name": "stdout",
     "output_type": "stream",
     "text": [
      "81\n"
     ]
    }
   ],
   "source": [
    "max_length = 0\n",
    "for palabra in dataX:\n",
    "    max_length = max(len(palabra), max_length)\n",
    "print(max_length)"
   ]
  },
  {
   "cell_type": "code",
   "execution_count": 14,
   "metadata": {
    "colab": {
     "autoexec": {
      "startup": false,
      "wait_interval": 0
     }
    },
    "colab_type": "code",
    "id": "UXFcieyHUm21"
   },
   "outputs": [],
   "source": [
    "#lemma -> ENDLEMMA\n",
    "lemmas.add(\"ENDLEMMA\")\n",
    "#labels -> ENDLABELS\n",
    "labels.add(\"ENDLABELS\")\n",
    "lemma2idx = {w: i for i, w in enumerate(lemmas)} #Converting text to numbers\n",
    "lab2idx = {t: i for i, t in enumerate(labels)}\n",
    "dataX = [[lemma2idx[lemma] for lemma in sentence ] for sentence in dataX]\n",
    "dataY = [[lab2idx[pos] for pos in pos_tags ] for pos_tags in dataY]\n",
    "n_lemmas = len(lemmas)\n",
    "n_labels = len(labels)"
   ]
  },
  {
   "cell_type": "code",
   "execution_count": 18,
   "metadata": {},
   "outputs": [
    {
     "name": "stdout",
     "output_type": "stream",
     "text": [
      "20244 42\n"
     ]
    }
   ],
   "source": [
    "print(n_lemmas,n_labels)"
   ]
  },
  {
   "cell_type": "markdown",
   "metadata": {},
   "source": [
    "Hay un total de 20,244 lemmas distintos, y 42 tags Part-of-speech."
   ]
  },
  {
   "cell_type": "code",
   "execution_count": 15,
   "metadata": {
    "colab": {
     "autoexec": {
      "startup": false,
      "wait_interval": 0
     }
    },
    "colab_type": "code",
    "id": "5Te7Z8LClqe-"
   },
   "outputs": [],
   "source": [
    "X = sequence.pad_sequences(dataX,maxlen=max_length,padding='post',value=lemma2idx[\"ENDLEMMA\"]) \n",
    "y = sequence.pad_sequences(dataY,maxlen=max_length,padding='post',value=lab2idx[\"ENDLABELS\"])"
   ]
  },
  {
   "cell_type": "markdown",
   "metadata": {},
   "source": [
    "En las variables *X* e *y* se almacenan los *lemmas* y *pos* de cada palabra respectivamente, por lo que la red neuronal tiene la labor de inferir el POS (propósito en el contexto de la oración) de cada palabra en base a su lemma."
   ]
  },
  {
   "cell_type": "code",
   "execution_count": 14,
   "metadata": {
    "colab": {
     "autoexec": {
      "startup": false,
      "wait_interval": 0
     },
     "base_uri": "https://localhost:8080/",
     "height": 136
    },
    "colab_type": "code",
    "executionInfo": {
     "elapsed": 599,
     "status": "ok",
     "timestamp": 1527451781746,
     "user": {
      "displayName": "Camilo Saldías",
      "photoUrl": "//lh3.googleusercontent.com/-SmOp4sdfXXA/AAAAAAAAAAI/AAAAAAAAABk/i5HklS2EMWA/s50-c-k-no/photo.jpg",
      "userId": "115111596898363573343"
     },
     "user_tz": 240
    },
    "id": "7Gf9799rux6K",
    "outputId": "19177e60-525a-4ef8-a415-dd3b8e6d5562"
   },
   "outputs": [
    {
     "name": "stdout",
     "output_type": "stream",
     "text": [
      "[14705 14946 15016  2720  8391 12076 14195 17423  6854 19972 16202  2895\n",
      "  8724 16244 10224 19972  2741 14946 17447 16780  3072  6919   900 17155\n",
      " 15983 15983 15983 15983 15983 15983 15983 15983 15983 15983 15983 15983\n",
      " 15983 15983 15983 15983 15983 15983 15983 15983 15983 15983 15983 15983\n",
      " 15983 15983 15983 15983 15983 15983 15983 15983 15983 15983 15983 15983\n",
      " 15983 15983 15983 15983 15983 15983 15983 15983 15983 15983 15983 15983\n",
      " 15983 15983 15983 15983 15983 15983 15983 15983 15983]\n"
     ]
    }
   ],
   "source": [
    "print(X[0])"
   ]
  },
  {
   "cell_type": "code",
   "execution_count": 15,
   "metadata": {},
   "outputs": [
    {
     "name": "stdout",
     "output_type": "stream",
     "text": [
      "[15 12 15  8 30 12  5 20 25 18  2 12  5 28 25 18  2 12  9 15 12 18  2  6\n",
      " 23 23 23 23 23 23 23 23 23 23 23 23 23 23 23 23 23 23 23 23 23 23 23 23\n",
      " 23 23 23 23 23 23 23 23 23 23 23 23 23 23 23 23 23 23 23 23 23 23 23 23\n",
      " 23 23 23 23 23 23 23 23 23]\n"
     ]
    }
   ],
   "source": [
    "print(y[0])"
   ]
  },
  {
   "cell_type": "markdown",
   "metadata": {},
   "source": [
    "> **Parte d)**"
   ]
  },
  {
   "cell_type": "markdown",
   "metadata": {},
   "source": [
    "Esta parte fue cubierta en el ítem c).\n",
    "\n",
    "Respecto a como la red neuronal leerá la entrada, no hace diferencia mientras se mantenga consistente la elección de rellenar sólo el inicio o el final. Sin embargo si es que consideramos el aprendizaje del modelo, la posición relativa a la oración es información relevante que se pierde si se llena desde el inicio, por lo tanto conviene rellenar al final."
   ]
  },
  {
   "cell_type": "markdown",
   "metadata": {
    "colab_type": "text",
    "id": "uN0IKuWUuNQa"
   },
   "source": [
    "> **Parte e)**"
   ]
  },
  {
   "cell_type": "code",
   "execution_count": 16,
   "metadata": {
    "scrolled": true
   },
   "outputs": [
    {
     "data": {
      "text/plain": [
       "(48081, 81)"
      ]
     },
     "execution_count": 16,
     "metadata": {},
     "output_type": "execute_result"
    }
   ],
   "source": [
    "X.shape"
   ]
  },
  {
   "cell_type": "markdown",
   "metadata": {},
   "source": [
    "La entrada de la red neuronal son oraciones con un máximo de 81 palabras."
   ]
  },
  {
   "cell_type": "code",
   "execution_count": 11,
   "metadata": {},
   "outputs": [
    {
     "data": {
      "text/plain": [
       "(48081, 81)"
      ]
     },
     "execution_count": 11,
     "metadata": {},
     "output_type": "execute_result"
    }
   ],
   "source": [
    "y.shape"
   ]
  },
  {
   "cell_type": "code",
   "execution_count": 16,
   "metadata": {
    "colab": {
     "autoexec": {
      "startup": false,
      "wait_interval": 0
     }
    },
    "colab_type": "code",
    "id": "3pomsVjBmFgG"
   },
   "outputs": [],
   "source": [
    "y = np.asarray([to_categorical(i, num_classes=n_labels) for i in y])\n",
    "X_train, X_test, y_train, y_test = train_test_split(X, y, test_size=0.3,random_state=22)"
   ]
  },
  {
   "cell_type": "code",
   "execution_count": 19,
   "metadata": {
    "scrolled": true
   },
   "outputs": [
    {
     "data": {
      "text/plain": [
       "(48081, 81, 42)"
      ]
     },
     "execution_count": 19,
     "metadata": {},
     "output_type": "execute_result"
    }
   ],
   "source": [
    "y.shape"
   ]
  },
  {
   "cell_type": "markdown",
   "metadata": {},
   "source": [
    "En efecto, ahora cada una de las oraciones tiene una entrada asociada a la anotación POS (las 42 vistas en el ítem **c)**). Utilizando este acercamiento, se ignora la relación ordinal de la anotación POS para al aprendizaje (es decir, la magnitud de la anotación no es relevante). En lugar de eso, utilizar un *one-hot vector* como salida permite la clasificación parcial en varias clases.\n",
    "\n",
    "Los conjuntos de entrenamiento y testing fueron explícitamente separadas en las variables *_train* y *_test* respectivamente."
   ]
  },
  {
   "cell_type": "code",
   "execution_count": 20,
   "metadata": {},
   "outputs": [
    {
     "data": {
      "text/plain": [
       "(14425, 81, 42)"
      ]
     },
     "execution_count": 20,
     "metadata": {},
     "output_type": "execute_result"
    }
   ],
   "source": [
    "y_test.shape"
   ]
  },
  {
   "cell_type": "code",
   "execution_count": 21,
   "metadata": {},
   "outputs": [
    {
     "data": {
      "text/plain": [
       "(14425, 81)"
      ]
     },
     "execution_count": 21,
     "metadata": {},
     "output_type": "execute_result"
    }
   ],
   "source": [
    "X_test.shape"
   ]
  },
  {
   "cell_type": "markdown",
   "metadata": {
    "colab_type": "text",
    "id": "SiOruIjRwcwa"
   },
   "source": [
    "> **Parte f)**"
   ]
  },
  {
   "cell_type": "markdown",
   "metadata": {},
   "source": [
    "Como se mostró en el ítem anterior, los datos de entrada tiene forma $14,425\\times 81$, correspondientes a las 14,425 oraciones de un máximo de 81 palabras, sin embargo su dimensionalidad cambia tras transitar por la capa de *embedding*. Particularmente *Word-embedding* busca aprender del contexto de las palabras, tomando en consideración cosas como la posición de esta o su forma. Para llevar registro de esto, la capa de embedding lleva la representación discreta de la oración a un vector de carácter continuo; no se computan operaciones matemáticas si no que es más parecido al proceso de hashing. "
   ]
  },
  {
   "cell_type": "markdown",
   "metadata": {},
   "source": [
    "Por otro lado, las compuertas LSTM (*Long short-term memory*) se encargan de recordar valores por un período de tiempo arbitrario. Pueden ser interpretadas como regularizadores porque mitigan los problemas de gradiente desvaneciente y explosiva."
   ]
  },
  {
   "cell_type": "markdown",
   "metadata": {},
   "source": [
    "Se compila el modelo del enunciado."
   ]
  },
  {
   "cell_type": "code",
   "execution_count": 27,
   "metadata": {
    "colab": {
     "autoexec": {
      "startup": false,
      "wait_interval": 0
     },
     "base_uri": "https://localhost:8080/",
     "height": 377
    },
    "colab_type": "code",
    "executionInfo": {
     "elapsed": 404970,
     "status": "ok",
     "timestamp": 1527453477964,
     "user": {
      "displayName": "Camilo Saldías",
      "photoUrl": "//lh3.googleusercontent.com/-SmOp4sdfXXA/AAAAAAAAAAI/AAAAAAAAABk/i5HklS2EMWA/s50-c-k-no/photo.jpg",
      "userId": "115111596898363573343"
     },
     "user_tz": 240
    },
    "id": "3HXazrGFuZ8O",
    "outputId": "83fd293a-e475-4466-efb4-ad4ca4e90e05",
    "scrolled": true
   },
   "outputs": [
    {
     "name": "stdout",
     "output_type": "stream",
     "text": [
      "_________________________________________________________________\n",
      "Layer (type)                 Output Shape              Param #   \n",
      "=================================================================\n",
      "embedding_4 (Embedding)      (None, 81, 32)            647808    \n",
      "_________________________________________________________________\n",
      "lstm_4 (LSTM)                (None, 81, 100)           53200     \n",
      "_________________________________________________________________\n",
      "dense_3 (Dense)              (None, 81, 42)            4242      \n",
      "=================================================================\n",
      "Total params: 705,250\n",
      "Trainable params: 705,250\n",
      "Non-trainable params: 0\n",
      "_________________________________________________________________\n"
     ]
    }
   ],
   "source": [
    "embedding_vector = 32\n",
    "model = Sequential()\n",
    "model.add(Embedding(input_dim=n_lemmas, output_dim=embedding_vector, input_length=max_length))\n",
    "model.add(LSTM(units=100,return_sequences=True))\n",
    "model.add(Dense(n_labels, activation='softmax'))\n",
    "model.summary()"
   ]
  },
  {
   "cell_type": "markdown",
   "metadata": {},
   "source": [
    "En primera instancia, la entrada de $14,425\\times81$ es llevada a un espacio de $14,425\\times81\\times32$. La dimensión adicional, el $32$, corresponde a la representación vectorial de lo que antes correspondía a un valor continuo.\n",
    "\n",
    "Existen un total de $20,244$ lemmas distintos, por lo que se debe construir un tabla de $20,244\\times32$, equivalente a una tabla de hashing. Los pesos de esta tabla son los entrenables y correspondientes a los $647,808$ parámetros entrenables.\n",
    "\n",
    "Las unidades LSTM tienen 3 compuertas:\n",
    "\n",
    "* Input\n",
    "* Output\n",
    "* 'Forget'\n",
    "\n",
    "Adicionalmente poseen una unidad de memoria, por lo que al menos hay 4 parámetros que entrenar por cada una de las unidades. Cada una de estas unidades están conectadas a todas las unidades $n$ (las unidades del paso anterior, correspondiente a la conección recurrente de la red) y conectadas a las dimensiones $m$ del vector de embedding.\n",
    "\n",
    "Considerando el bias de las 100 unidades, el número de parámetros entrenables son $$4\\times(nm+n^{2}+n)=4\\times(100\\times 32+100^{2}+100)=53,200$$\n",
    "\n",
    "Finalmente los parámetros última capa son sencillamente la conexión entre las 100 unidades LSTM y las 42 unidades de la capa densa, considerando el bias.$$42\\times100+42=4,242$$ "
   ]
  },
  {
   "cell_type": "markdown",
   "metadata": {},
   "source": [
    "Se entrena la red neuronal."
   ]
  },
  {
   "cell_type": "code",
   "execution_count": 28,
   "metadata": {},
   "outputs": [
    {
     "name": "stdout",
     "output_type": "stream",
     "text": [
      "Train on 33656 samples, validate on 14425 samples\n",
      "Epoch 1/3\n",
      "33656/33656 [==============================] - 26s 770us/step - loss: 1.0896 - acc: 0.7491 - val_loss: 0.7573 - val_acc: 0.7961\n",
      "Epoch 2/3\n",
      "33656/33656 [==============================] - 25s 742us/step - loss: 0.5970 - acc: 0.8401 - val_loss: 0.4115 - val_acc: 0.8877\n",
      "Epoch 3/3\n",
      "33656/33656 [==============================] - 25s 731us/step - loss: 0.2883 - acc: 0.9224 - val_loss: 0.1927 - val_acc: 0.9505\n"
     ]
    }
   ],
   "source": [
    "model.compile(loss='categorical_crossentropy', optimizer='adam', metrics=['accuracy'])\n",
    "model.fit(X_train, y_train, validation_data=(X_test, y_test), epochs=3, batch_size=128)\n",
    "scores = model.evaluate(X_test, y_test, verbose=0)"
   ]
  },
  {
   "cell_type": "markdown",
   "metadata": {},
   "source": [
    "Para ser solamente 3 epochs, la red le tomó un tiempo considerable debido a la cantidad de parámetros involucrados. "
   ]
  },
  {
   "cell_type": "code",
   "execution_count": 30,
   "metadata": {
    "colab": {
     "autoexec": {
      "startup": false,
      "wait_interval": 0
     },
     "base_uri": "https://localhost:8080/",
     "height": 51
    },
    "colab_type": "code",
    "executionInfo": {
     "elapsed": 635,
     "status": "ok",
     "timestamp": 1527453489102,
     "user": {
      "displayName": "Camilo Saldías",
      "photoUrl": "//lh3.googleusercontent.com/-SmOp4sdfXXA/AAAAAAAAAAI/AAAAAAAAABk/i5HklS2EMWA/s50-c-k-no/photo.jpg",
      "userId": "115111596898363573343"
     },
     "user_tz": 240
    },
    "id": "lr8X4lWryvDb",
    "outputId": "30e310d2-9ba5-45e9-cb48-f4e90797ad1f"
   },
   "outputs": [
    {
     "name": "stdout",
     "output_type": "stream",
     "text": [
      "Loss: 0.1927\n",
      "Accuracy: 95.05%\n"
     ]
    }
   ],
   "source": [
    "print(\"Loss: {:.4f}\".format(scores[0]))\n",
    "print(\"Accuracy: {:.2f}%\".format(scores[1]*100))"
   ]
  },
  {
   "cell_type": "markdown",
   "metadata": {},
   "source": [
    "Aún así, la red logra un excelente desempeño, con un precisión del 95.05% en las anotaciones POS."
   ]
  },
  {
   "cell_type": "markdown",
   "metadata": {
    "colab_type": "text",
    "id": "Rd2hp17Y-J9e"
   },
   "source": [
    "> **Parte g)**"
   ]
  },
  {
   "cell_type": "code",
   "execution_count": 48,
   "metadata": {
    "colab": {
     "autoexec": {
      "startup": false,
      "wait_interval": 0
     },
     "base_uri": "https://localhost:8080/",
     "height": 751
    },
    "colab_type": "code",
    "executionInfo": {
     "elapsed": 14764758,
     "status": "ok",
     "timestamp": 1527476029954,
     "user": {
      "displayName": "Camilo Saldías",
      "photoUrl": "//lh3.googleusercontent.com/-SmOp4sdfXXA/AAAAAAAAAAI/AAAAAAAAABk/i5HklS2EMWA/s50-c-k-no/photo.jpg",
      "userId": "115111596898363573343"
     },
     "user_tz": 240
    },
    "id": "zwcOIOH18fcI",
    "outputId": "3330d6bb-c006-4c49-8b0e-6ee8e198d80f"
   },
   "outputs": [
    {
     "name": "stdout",
     "output_type": "stream",
     "text": [
      "Usando embedding_vector=1...\n",
      "Train on 33656 samples, validate on 14425 samples\n",
      "Epoch 1/3\n",
      "33656/33656 [==============================] - 120s 4ms/step - loss: 1.1957 - acc: 0.7346 - val_loss: 0.8950 - val_acc: 0.7520\n",
      "Epoch 2/3\n",
      "22144/33656 [==================>...........] - ETA: 36s - loss: 0.8336 - acc: 0.766933656/33656 [==============================] - 117s 3ms/step - loss: 0.8161 - acc: 0.7705 - val_loss: 0.7686 - val_acc: 0.7812\n",
      "Epoch 3/3\n",
      "33656/33656 [==============================] - 116s 3ms/step - loss: 0.7283 - acc: 0.7971 - val_loss: 0.6716 - val_acc: 0.8189\n",
      "Usando embedding_vector=10...\n",
      "Train on 33656 samples, validate on 14425 samples\n",
      "Epoch 1/3\n",
      " 9600/33656 [=======>......................] - ETA: 1:24 - loss: 1.6753 - acc: 0.711833656/33656 [==============================] - 123s 4ms/step - loss: 1.1315 - acc: 0.7407 - val_loss: 0.8126 - val_acc: 0.7725\n",
      "Epoch 2/3\n",
      "33656/33656 [==============================] - 121s 4ms/step - loss: 0.7442 - acc: 0.7926 - val_loss: 0.6635 - val_acc: 0.8320\n",
      "Epoch 3/3\n",
      " 8960/33656 [======>.......................] - ETA: 1:20 - loss: 0.6207 - acc: 0.845533656/33656 [==============================] - 120s 4ms/step - loss: 0.5311 - acc: 0.8554 - val_loss: 0.4287 - val_acc: 0.8674\n",
      "Usando embedding_vector=100...\n",
      "Train on 33656 samples, validate on 14425 samples\n",
      "Epoch 1/3\n",
      "33656/33656 [==============================] - 154s 5ms/step - loss: 0.9884 - acc: 0.7681 - val_loss: 0.6543 - val_acc: 0.8361\n",
      "Epoch 2/3\n",
      "  896/33656 [..............................] - ETA: 2:12 - loss: 0.6366 - acc: 0.838333656/33656 [==============================] - 151s 4ms/step - loss: 0.3634 - acc: 0.9081 - val_loss: 0.1749 - val_acc: 0.9575\n",
      "Epoch 3/3\n",
      "33656/33656 [==============================] - 151s 4ms/step - loss: 0.1233 - acc: 0.9671 - val_loss: 0.1032 - val_acc: 0.9700\n",
      "Usando embedding_vector=1000...\n",
      "Train on 33656 samples, validate on 14425 samples\n",
      "Epoch 1/3\n",
      " 5504/33656 [===>..........................] - ETA: 6:20 - loss: 1.3223 - acc: 0.751033656/33656 [==============================] - 484s 14ms/step - loss: 0.5440 - acc: 0.8801 - val_loss: 0.1266 - val_acc: 0.9652\n",
      "Epoch 2/3\n",
      "33656/33656 [==============================] - 479s 14ms/step - loss: 0.0901 - acc: 0.9730 - val_loss: 0.0797 - val_acc: 0.9746\n",
      "Epoch 3/3\n",
      " 7808/33656 [=====>........................] - ETA: 5:27 - loss: 0.0663 - acc: 0.978533656/33656 [==============================] - 478s 14ms/step - loss: 0.0643 - acc: 0.9789 - val_loss: 0.0699 - val_acc: 0.9771\n",
      "Usando embedding_vector=10000...\n"
     ]
    },
    {
     "name": "stderr",
     "output_type": "stream",
     "text": [
      "/usr/local/lib/python3.6/dist-packages/tensorflow/python/ops/gradients_impl.py:97: UserWarning: Converting sparse IndexedSlices to a dense Tensor with 202440000 elements. This may consume a large amount of memory.\n",
      "  num_elements)\n"
     ]
    },
    {
     "name": "stdout",
     "output_type": "stream",
     "text": [
      "Train on 33656 samples, validate on 14425 samples\n",
      "Epoch 1/3\n",
      "33656/33656 [==============================] - 3851s 114ms/step - loss: 0.2587 - acc: 0.9385 - val_loss: 0.0851 - val_acc: 0.9734\n",
      "Epoch 2/3\n",
      "27392/33656 [=======================>......] - ETA: 10:34 - loss: 0.0693 - acc: 0.977533656/33656 [==============================] - 3841s 114ms/step - loss: 0.0680 - acc: 0.9778 - val_loss: 0.0675 - val_acc: 0.9778\n",
      "Epoch 3/3\n",
      "33656/33656 [==============================] - 3871s 115ms/step - loss: 0.0522 - acc: 0.9823 - val_loss: 0.0615 - val_acc: 0.9795\n"
     ]
    }
   ],
   "source": [
    "n_vector = 5\n",
    "embedding_vectors = np.logspace(start=0, stop=4, num=n_vector, base=10).astype(int)\n",
    "scores_list = {}\n",
    "exec_time = {}\n",
    "for embedding_vector in embedding_vectors:\n",
    "    print(\"Usando embedding_vector={}...\".format(embedding_vector))\n",
    "    model = Sequential()\n",
    "    model.add(Embedding(input_dim=n_lemmas, output_dim=embedding_vector, input_length=max_length))\n",
    "    model.add(LSTM(units=100,return_sequences=True))\n",
    "    model.add(Dense(n_labels, activation='softmax'))\n",
    "    model.compile(loss='categorical_crossentropy', optimizer='adam', metrics=['accuracy'])\n",
    "    start = timer()\n",
    "    model.fit(X_train, y_train, validation_data=(X_test, y_test), epochs=3, batch_size=128)\n",
    "    end = timer()\n",
    "    scores = model.evaluate(X_test, y_test, verbose=0)\n",
    "    scores_list[embedding_vector] = scores\n",
    "    exec_time[embedding_vector] = end - start"
   ]
  },
  {
   "cell_type": "markdown",
   "metadata": {
    "colab_type": "text",
    "id": "_jIiI3zJ-vkp"
   },
   "source": [
    "Referencias:\n",
    "\n",
    "https://www.digitalocean.com/community/tutorials/how-to-graph-word-frequency-using-matplotlib-with-python-3\n"
   ]
  },
  {
   "cell_type": "code",
   "execution_count": 54,
   "metadata": {
    "colab": {
     "autoexec": {
      "startup": false,
      "wait_interval": 0
     },
     "base_uri": "https://localhost:8080/",
     "height": 102
    },
    "colab_type": "code",
    "executionInfo": {
     "elapsed": 585,
     "status": "ok",
     "timestamp": 1527476115691,
     "user": {
      "displayName": "Camilo Saldías",
      "photoUrl": "//lh3.googleusercontent.com/-SmOp4sdfXXA/AAAAAAAAAAI/AAAAAAAAABk/i5HklS2EMWA/s50-c-k-no/photo.jpg",
      "userId": "115111596898363573343"
     },
     "user_tz": 240
    },
    "id": "eILiRSg3-yp6",
    "outputId": "40a618e1-3f43-4589-9778-0d8d9eda80a0"
   },
   "outputs": [
    {
     "name": "stdout",
     "output_type": "stream",
     "text": [
      "Embedding Vector: 1\tLoss: 0.6716, Accuracy: 81.89%, Tiempo: 5.905 min\n",
      "Embedding Vector: 10\tLoss: 0.4287, Accuracy: 86.74%, Tiempo: 6.090 min\n",
      "Embedding Vector: 100\tLoss: 0.1032, Accuracy: 97.00%, Tiempo: 7.617 min\n",
      "Embedding Vector: 1000\tLoss: 0.0699, Accuracy: 97.71%, Tiempo: 24.056 min\n",
      "Embedding Vector: 10000\tLoss: 0.0615, Accuracy: 97.95%, Tiempo: 192.750 min\n"
     ]
    }
   ],
   "source": [
    "for index in embedding_vectors:\n",
    "    print(\"Embedding Vector: {}\\tLoss: {:.4f}, Accuracy: {:.2f}%, Tiempo: {:.3f} min\".format(index, scores_list[index][0], scores_list[index][1]*100, exec_time[index]/60))"
   ]
  },
  {
   "cell_type": "markdown",
   "metadata": {},
   "source": [
    "Aumentando la dimensión del vector de embedding, se consigue una mejor precisión de tagging y menor pérdida tras ser entrenado. Los tiempos aumentan conforme se aumenta la dimensionalidad del vector, sin embargo tras utilizar un vector con 100 dimensiones, la precisión del modelo no mejora mucho.\n",
    "\n",
    "Si bien los números del vector de embedding no tienen una interpretación directa más que corresponden a información de posicionamiento y distancia de los lemmas, aumentar las dimensiones implica almacenar más información. Bajo este marco, uno podría argumentar que utilizar las mismas dimensiones que el largo de las palabras lograría almacenar la mayor cantidad de información espacial."
   ]
  },
  {
   "cell_type": "code",
   "execution_count": 46,
   "metadata": {},
   "outputs": [
    {
     "name": "stdout",
     "output_type": "stream",
     "text": [
      "Train on 33656 samples, validate on 14425 samples\n",
      "Epoch 1/3\n",
      "33656/33656 [==============================] - 26s 770us/step - loss: 1.0208 - acc: 0.7631 - val_loss: 0.6989 - val_acc: 0.8267\n",
      "Epoch 2/3\n",
      "33656/33656 [==============================] - 25s 730us/step - loss: 0.4194 - acc: 0.8929 - val_loss: 0.2015 - val_acc: 0.9536\n",
      "Epoch 3/3\n",
      "33656/33656 [==============================] - 25s 729us/step - loss: 0.1350 - acc: 0.9648 - val_loss: 0.1076 - val_acc: 0.9692\n",
      "Loss: 0.1076\n",
      "Accuracy: 96.92%\n"
     ]
    }
   ],
   "source": [
    "embedding_vector = 81\n",
    "model = Sequential()\n",
    "model.add(Embedding(input_dim=n_lemmas, output_dim=embedding_vector, input_length=max_length))\n",
    "model.add(LSTM(units=100,return_sequences=True))\n",
    "model.add(Dense(n_labels, activation='softmax'))\n",
    "model.compile(loss='categorical_crossentropy', optimizer='adam', metrics=['accuracy'])\n",
    "model.fit(X_train, y_train, validation_data=(X_test, y_test), epochs=3, batch_size=128)\n",
    "scores = model.evaluate(X_test, y_test, verbose=0)\n",
    "print(\"Loss: {:.4f}\".format(scores[0]))\n",
    "print(\"Accuracy: {:.2f}%\".format(scores[1]*100))"
   ]
  },
  {
   "cell_type": "markdown",
   "metadata": {},
   "source": [
    "En efecto, utilizando las mismas dimensiones, se logra una precisión muy cercana al máximo de precisión alcanzada por el vector de embedding 10,000 dimensiones."
   ]
  },
  {
   "cell_type": "markdown",
   "metadata": {
    "colab_type": "text",
    "id": "bUdnTq8g7y04"
   },
   "source": [
    "> **Parte h)**"
   ]
  },
  {
   "cell_type": "code",
   "execution_count": 31,
   "metadata": {
    "colab": {
     "autoexec": {
      "startup": false,
      "wait_interval": 0
     },
     "base_uri": "https://localhost:8080/",
     "height": 411
    },
    "colab_type": "code",
    "executionInfo": {
     "elapsed": 410857,
     "status": "ok",
     "timestamp": 1527453924837,
     "user": {
      "displayName": "Camilo Saldías",
      "photoUrl": "//lh3.googleusercontent.com/-SmOp4sdfXXA/AAAAAAAAAAI/AAAAAAAAABk/i5HklS2EMWA/s50-c-k-no/photo.jpg",
      "userId": "115111596898363573343"
     },
     "user_tz": 240
    },
    "id": "r6BuGDSS2diD",
    "outputId": "e47d6409-d4c5-4a41-ea9b-1ee376647ef1"
   },
   "outputs": [
    {
     "name": "stdout",
     "output_type": "stream",
     "text": [
      "_________________________________________________________________\n",
      "Layer (type)                 Output Shape              Param #   \n",
      "=================================================================\n",
      "embedding_5 (Embedding)      (None, 81, 32)            647808    \n",
      "_________________________________________________________________\n",
      "lstm_5 (LSTM)                (None, 81, 100)           53200     \n",
      "_________________________________________________________________\n",
      "dropout_2 (Dropout)          (None, 81, 100)           0         \n",
      "_________________________________________________________________\n",
      "dense_4 (Dense)              (None, 81, 42)            4242      \n",
      "=================================================================\n",
      "Total params: 705,250\n",
      "Trainable params: 705,250\n",
      "Non-trainable params: 0\n",
      "_________________________________________________________________\n",
      "Train on 33656 samples, validate on 14425 samples\n",
      "Epoch 1/3\n",
      "33656/33656 [==============================] - 27s 803us/step - loss: 1.0863 - acc: 0.7449 - val_loss: 0.7652 - val_acc: 0.7837\n",
      "Epoch 2/3\n",
      "33656/33656 [==============================] - 25s 735us/step - loss: 0.6414 - acc: 0.8257 - val_loss: 0.4440 - val_acc: 0.8756\n",
      "Epoch 3/3\n",
      "33656/33656 [==============================] - 25s 739us/step - loss: 0.3119 - acc: 0.9163 - val_loss: 0.1991 - val_acc: 0.9491\n"
     ]
    }
   ],
   "source": [
    "embedding_vector = 32\n",
    "model = Sequential()\n",
    "model.add(Embedding(input_dim=n_lemmas, output_dim=embedding_vector, input_length=max_length))\n",
    "model.add(LSTM(units=100,return_sequences=True)) #or recurrent_dropout=0.2\n",
    "model.add(Dropout(0.2))\n",
    "model.add(Dense(n_labels, activation='softmax'))\n",
    "model.summary()\n",
    "model.compile(loss='categorical_crossentropy', optimizer='adam', metrics=['accuracy'])\n",
    "model.fit(X_train, y_train, validation_data=(X_test, y_test), epochs=3, batch_size=128)\n",
    "scores = model.evaluate(X_test, y_test, verbose=0)"
   ]
  },
  {
   "cell_type": "code",
   "execution_count": 32,
   "metadata": {
    "colab": {
     "autoexec": {
      "startup": false,
      "wait_interval": 0
     },
     "base_uri": "https://localhost:8080/",
     "height": 51
    },
    "colab_type": "code",
    "executionInfo": {
     "elapsed": 536,
     "status": "ok",
     "timestamp": 1527453930342,
     "user": {
      "displayName": "Camilo Saldías",
      "photoUrl": "//lh3.googleusercontent.com/-SmOp4sdfXXA/AAAAAAAAAAI/AAAAAAAAABk/i5HklS2EMWA/s50-c-k-no/photo.jpg",
      "userId": "115111596898363573343"
     },
     "user_tz": 240
    },
    "id": "rXfk2X2A8EpM",
    "outputId": "af6b309c-424c-4c57-9f59-3b33899387a8"
   },
   "outputs": [
    {
     "name": "stdout",
     "output_type": "stream",
     "text": [
      "Loss: 0.1991\n",
      "Accuracy: 94.91%\n"
     ]
    }
   ],
   "source": [
    "print(\"Loss: {:.4f}\".format(scores[0]))\n",
    "print(\"Accuracy: {:.2f}%\".format(scores[1]*100))"
   ]
  },
  {
   "cell_type": "markdown",
   "metadata": {},
   "source": [
    "Utilizar dropout no mejora el desempeño de la red. Esto puede deberse a que dropout ignora activaciones, es decir, pierde información durante el entrenamiento, esencialmente 'olvidándola'. Si bien esto resuelve otros problemas en redes propensas a overfitting, dropout genera el efecto contrario a las unidades LSTM, por lo que mitiga el efecto positivo que estas unidades podrían producir."
   ]
  },
  {
   "cell_type": "markdown",
   "metadata": {
    "colab_type": "text",
    "id": "QbGAnrfTWdMs"
   },
   "source": [
    "> **Parte i)**"
   ]
  },
  {
   "cell_type": "markdown",
   "metadata": {},
   "source": [
    "Un LSTM bidireccional funciona de manera parecida a los convencionales, sólo que ahora considera inputs tanto de iteraciones pasadas como posteriores. La justificación detrás de este acercamiento es que en casos como reconocimiento de habla, donde el contexto del enunciado entero provee de significado a las palabras, contrario a la interpretación lineal."
   ]
  },
  {
   "cell_type": "markdown",
   "metadata": {},
   "source": [
    "Primero se analizará a grandes rasgos el modelo."
   ]
  },
  {
   "cell_type": "code",
   "execution_count": 53,
   "metadata": {},
   "outputs": [
    {
     "name": "stdout",
     "output_type": "stream",
     "text": [
      "_________________________________________________________________\n",
      "Layer (type)                 Output Shape              Param #   \n",
      "=================================================================\n",
      "embedding_16 (Embedding)     (None, 81, 32)            647808    \n",
      "_________________________________________________________________\n",
      "bidirectional_5 (Bidirection (None, 81, 200)           106400    \n",
      "_________________________________________________________________\n",
      "dense_16 (Dense)             (None, 81, 42)            8442      \n",
      "=================================================================\n",
      "Total params: 762,650\n",
      "Trainable params: 762,650\n",
      "Non-trainable params: 0\n",
      "_________________________________________________________________\n"
     ]
    }
   ],
   "source": [
    "model = Sequential()\n",
    "model.add(Embedding(input_dim=n_lemmas, output_dim=embedding_vector, input_length=max_length))\n",
    "layer_lstm = LSTM(units=100,return_sequences=True)\n",
    "model.add(Bidirectional(layer_lstm,merge_mode=mode))\n",
    "model.add(Dense(n_labels, activation='softmax'))\n",
    "model.summary()"
   ]
  },
  {
   "cell_type": "markdown",
   "metadata": {},
   "source": [
    "Utilizando una capa bidireccional, esta vez se tiene el doble parámetros entrenables en esta capa, y de unidades LSTM. Cada par de estas unidades corresponden a una unidad compuesta, cuyo estado final es determinado por el método de unión (o *merge_mode* en este caso).\n",
    "\n",
    "A continuación se presenta el entrenamiento utilizando todos los métodos disponibles."
   ]
  },
  {
   "cell_type": "code",
   "execution_count": 54,
   "metadata": {
    "colab": {
     "autoexec": {
      "startup": false,
      "wait_interval": 0
     },
     "base_uri": "https://localhost:8080/",
     "height": 932
    },
    "colab_type": "code",
    "executionInfo": {
     "elapsed": 2377160,
     "status": "error",
     "timestamp": 1527460805338,
     "user": {
      "displayName": "Camilo Saldías",
      "photoUrl": "//lh3.googleusercontent.com/-SmOp4sdfXXA/AAAAAAAAAAI/AAAAAAAAABk/i5HklS2EMWA/s50-c-k-no/photo.jpg",
      "userId": "115111596898363573343"
     },
     "user_tz": 240
    },
    "id": "ziZpkqC5WVC1",
    "outputId": "2b6e05e4-bcee-4794-c476-53a794773827"
   },
   "outputs": [
    {
     "name": "stdout",
     "output_type": "stream",
     "text": [
      "Usando modo sum...\n",
      "Usando modo mul...\n",
      "Usando modo ave...\n",
      "Usando modo concat...\n"
     ]
    }
   ],
   "source": [
    "embedding_vector = 32\n",
    "scores_list = {}\n",
    "exec_times = {}\n",
    "for mode in [\"sum\", \"mul\", \"ave\", \"concat\"]:\n",
    "    print(\"Usando modo \"+mode+\"...\")\n",
    "    model = Sequential()\n",
    "    model.add(Embedding(input_dim=n_lemmas, output_dim=embedding_vector, input_length=max_length))\n",
    "    layer_lstm = LSTM(units=100,return_sequences=True)\n",
    "    model.add(Bidirectional(layer_lstm,merge_mode=mode))\n",
    "    model.add(Dense(n_labels, activation='softmax'))\n",
    "    model.compile(loss='categorical_crossentropy', optimizer='adam', metrics=['accuracy'])\n",
    "    start = timer()\n",
    "    model.fit(X_train, y_train, validation_data=(X_test, y_test), epochs=3, batch_size=128,verbose=0)\n",
    "    end = timer()\n",
    "    scores = model.evaluate(X_test, y_test, verbose=0)\n",
    "    scores_list[mode] = scores\n",
    "    exec_times[mode] = end - start"
   ]
  },
  {
   "cell_type": "code",
   "execution_count": 55,
   "metadata": {
    "colab": {
     "autoexec": {
      "startup": false,
      "wait_interval": 0
     },
     "base_uri": "https://localhost:8080/",
     "height": 85
    },
    "colab_type": "code",
    "executionInfo": {
     "elapsed": 681,
     "status": "ok",
     "timestamp": 1527460932943,
     "user": {
      "displayName": "Camilo Saldías",
      "photoUrl": "//lh3.googleusercontent.com/-SmOp4sdfXXA/AAAAAAAAAAI/AAAAAAAAABk/i5HklS2EMWA/s50-c-k-no/photo.jpg",
      "userId": "115111596898363573343"
     },
     "user_tz": 240
    },
    "id": "Ty-QFca2W0KB",
    "outputId": "5a51f15c-f884-4d5b-db25-614ed2d0faa7"
   },
   "outputs": [
    {
     "name": "stdout",
     "output_type": "stream",
     "text": [
      "Modo: sum\tLoss: 0.1078, Accuracy: 96.81%, Tiempo: 2.322 min\n",
      "Modo: mul\tLoss: 0.1422, Accuracy: 96.15%, Tiempo: 2.307 min\n",
      "Modo: ave\tLoss: 0.2218, Accuracy: 94.37%, Tiempo: 2.312 min\n",
      "Modo: concat\tLoss: 0.1216, Accuracy: 96.57%, Tiempo: 2.308 min\n"
     ]
    }
   ],
   "source": [
    "for mode in [\"sum\", \"mul\", \"ave\", \"concat\"]:\n",
    "    print(\"Modo: {}\\tLoss: {:.4f}, Accuracy: {:.2f}%, Tiempo: {:.3f} min\".format(mode, scores_list[mode][0], scores_list[mode][1]*100, exec_times[mode]/60))"
   ]
  },
  {
   "cell_type": "markdown",
   "metadata": {
    "colab": {
     "autoexec": {
      "startup": false,
      "wait_interval": 0
     }
    },
    "colab_type": "code",
    "id": "kiruVi4-Z0uu"
   },
   "source": [
    "Empíricamente, los métodos de suma, multiplicación y concadenación mejoran aproximadamente un 1% la precisión respecto a la red neuronal unidireccional, en especial la suma. Por otro lado utilizar promedio empeora su desempeño."
   ]
  },
  {
   "cell_type": "markdown",
   "metadata": {},
   "source": [
    "> **Parte j)**"
   ]
  },
  {
   "cell_type": "code",
   "execution_count": 56,
   "metadata": {},
   "outputs": [
    {
     "data": {
      "text/plain": [
       "<keras.callbacks.History at 0x7fa042163b00>"
      ]
     },
     "execution_count": 56,
     "metadata": {},
     "output_type": "execute_result"
    }
   ],
   "source": [
    "model = Sequential()\n",
    "model.add(Embedding(input_dim=n_lemmas, output_dim=embedding_vector, input_length=max_length))\n",
    "layer_lstm = LSTM(units=100,return_sequences=True)\n",
    "model.add(Bidirectional(layer_lstm,merge_mode='sum'))\n",
    "model.add(Dense(n_labels, activation='softmax'))\n",
    "model.compile(loss='categorical_crossentropy', optimizer='adam', metrics=['accuracy'])\n",
    "model.fit(X_train, y_train, validation_data=(X_test, y_test), epochs=3, batch_size=128,verbose=0)"
   ]
  },
  {
   "cell_type": "code",
   "execution_count": 77,
   "metadata": {},
   "outputs": [
    {
     "name": "stdout",
     "output_type": "stream",
     "text": [
      "Lemma          : Pred\n",
      "earlier        : RB\n",
      "today          : NN\n",
      ",              : ,\n",
      "white          : NNP\n",
      "hous           : NNP\n",
      "spokeswoman    : NN\n",
      "dana           : NNP\n",
      "perino         : NNP\n",
      "said           : VBD\n",
      "mr.            : NNP\n",
      "bush           : NNP\n",
      "will           : MD\n",
      "cooper         : VB\n",
      "with           : IN\n",
      "u.s.           : NNP\n",
      "attorney       : NNP\n",
      "general        : NNP\n",
      "michael        : NNP\n",
      "mukasey        : NNP\n",
      "in             : IN\n",
      "the            : DT\n",
      "investig       : NN\n",
      ".              : .\n",
      "ENDLEMMA       : ENDLABELS\n",
      "ENDLEMMA       : ENDLABELS\n",
      "ENDLEMMA       : ENDLABELS\n",
      "ENDLEMMA       : ENDLABELS\n",
      "ENDLEMMA       : ENDLABELS\n",
      "ENDLEMMA       : ENDLABELS\n",
      "ENDLEMMA       : ENDLABELS\n",
      "ENDLEMMA       : ENDLABELS\n",
      "ENDLEMMA       : ENDLABELS\n",
      "ENDLEMMA       : ENDLABELS\n",
      "ENDLEMMA       : ENDLABELS\n",
      "ENDLEMMA       : ENDLABELS\n",
      "ENDLEMMA       : ENDLABELS\n",
      "ENDLEMMA       : ENDLABELS\n",
      "ENDLEMMA       : ENDLABELS\n",
      "ENDLEMMA       : ENDLABELS\n",
      "ENDLEMMA       : ENDLABELS\n",
      "ENDLEMMA       : ENDLABELS\n",
      "ENDLEMMA       : ENDLABELS\n",
      "ENDLEMMA       : ENDLABELS\n",
      "ENDLEMMA       : ENDLABELS\n",
      "ENDLEMMA       : ENDLABELS\n",
      "ENDLEMMA       : ENDLABELS\n",
      "ENDLEMMA       : ENDLABELS\n",
      "ENDLEMMA       : ENDLABELS\n",
      "ENDLEMMA       : ENDLABELS\n",
      "ENDLEMMA       : ENDLABELS\n",
      "ENDLEMMA       : ENDLABELS\n",
      "ENDLEMMA       : ENDLABELS\n",
      "ENDLEMMA       : ENDLABELS\n",
      "ENDLEMMA       : ENDLABELS\n",
      "ENDLEMMA       : ENDLABELS\n",
      "ENDLEMMA       : ENDLABELS\n",
      "ENDLEMMA       : ENDLABELS\n",
      "ENDLEMMA       : ENDLABELS\n",
      "ENDLEMMA       : ENDLABELS\n",
      "ENDLEMMA       : ENDLABELS\n",
      "ENDLEMMA       : ENDLABELS\n",
      "ENDLEMMA       : ENDLABELS\n",
      "ENDLEMMA       : ENDLABELS\n",
      "ENDLEMMA       : ENDLABELS\n",
      "ENDLEMMA       : ENDLABELS\n",
      "ENDLEMMA       : ENDLABELS\n",
      "ENDLEMMA       : ENDLABELS\n",
      "ENDLEMMA       : ENDLABELS\n",
      "ENDLEMMA       : ENDLABELS\n",
      "ENDLEMMA       : ENDLABELS\n",
      "ENDLEMMA       : ENDLABELS\n",
      "ENDLEMMA       : ENDLABELS\n",
      "ENDLEMMA       : ENDLABELS\n",
      "ENDLEMMA       : ENDLABELS\n",
      "ENDLEMMA       : ENDLABELS\n",
      "ENDLEMMA       : ENDLABELS\n",
      "ENDLEMMA       : ENDLABELS\n",
      "ENDLEMMA       : ENDLABELS\n",
      "ENDLEMMA       : ENDLABELS\n",
      "ENDLEMMA       : ENDLABELS\n",
      "ENDLEMMA       : ENDLABELS\n"
     ]
    }
   ],
   "source": [
    "i=12\n",
    "p = model.predict(np.array([X_test[i]]))\n",
    "p = np.argmax(p, axis=-1)\n",
    "print(\"{:15}: {}\".format(\"Lemma\", \"Pred\"))\n",
    "for w,pred in zip(X_test[i],p[0]):\n",
    "    print(\"{:15}: {}\".format(list(lemmas)[w],list(labels)[pred]))"
   ]
  },
  {
   "cell_type": "markdown",
   "metadata": {},
   "source": [
    "Lo más obvio a la vista es que la red neuronal identifica correctamente los caracteres de relleno ENDLEMMA y los clasifica como ENDLABELS. Se identifica correctamente *earlier* como adverbio (indica circunstancia), sustantivos propios (es decir, palabras que identifican personas/lugar y que son escritas con mayúsculas), *spokeswoman* como sustantivo, verbos en sus tiempos correctos (*said* como verbo en tiempo pasado o *cooperate* como verbo en su forma base), *will* verbo modal (que indican disposición) y puntuaciones o símbolos como las comas y puntos.\n",
    "\n",
    "Al menos a partir de este ejemplo, la clasificación parece no tener ningún fallo, reflejando el nivel de precisión anteriormente informado (96% aproximadamente)."
   ]
  },
  {
   "cell_type": "markdown",
   "metadata": {},
   "source": [
    "> **Parte k)**"
   ]
  },
  {
   "cell_type": "markdown",
   "metadata": {},
   "source": [
    "La razón por la que se cargan las palabras es porque los lemmas no contienen la palabra completa, si no abreviaciones que representan el tópico de la palabra. Dado que se pretende predecir un carácter a la vez, es necesario contar con la palabra exacta (salvo las mayúsculas)."
   ]
  },
  {
   "cell_type": "code",
   "execution_count": 17,
   "metadata": {},
   "outputs": [
    {
     "name": "stdout",
     "output_type": "stream",
     "text": [
      "total chars: 72\n",
      "nb sequences: 1213495\n"
     ]
    }
   ],
   "source": [
    "dataset = df_ner.loc[:,[\"word\",\"lemma\"]]\n",
    "text = ' '.join(dataset[\"word\"]).lower() #corpus\n",
    "null_character = \"*\"\n",
    "chars = [null_character]+sorted(list(set(text)))\n",
    "print('total chars:', len(chars))\n",
    "char_indices = {c: i for i, c in enumerate(chars)}\n",
    "indices_char = {i: c for i, c in enumerate(chars)}\n",
    "\n",
    "# cut the text in semi-redundant sequences of maxlen characters\n",
    "maxlen = 40\n",
    "step = 5 \n",
    "sentences = []\n",
    "next_chars = []\n",
    "size = int(len(text)*1) #todo el corpus, porque hace frío y necesito una estufa en lugar de notebook\n",
    "for i in range(0, size - maxlen, step):\n",
    "    sentences.append(null_character+text[i: i + maxlen])\n",
    "    next_chars.append(text[i + maxlen])\n",
    "print('nb sequences:', len(sentences))"
   ]
  },
  {
   "cell_type": "markdown",
   "metadata": {},
   "source": [
    "Bajo el razonamiente que utilizando mayor cantidad de datos significa un mejor modelo, se utiliza el corpus completo del texto."
   ]
  },
  {
   "cell_type": "markdown",
   "metadata": {},
   "source": [
    "> **Parte l)**"
   ]
  },
  {
   "cell_type": "markdown",
   "metadata": {},
   "source": [
    "Luego se generan los datos utilizados por el modelo."
   ]
  },
  {
   "cell_type": "code",
   "execution_count": 24,
   "metadata": {},
   "outputs": [],
   "source": [
    "dataX = [[char_indices[char] for char in sentence ] for sentence in sentences]\n",
    "dataY = [char_indices[char] for char in next_chars]"
   ]
  },
  {
   "cell_type": "markdown",
   "metadata": {},
   "source": [
    "Para el padding, se llenará utilizando el carácter nulo (*null_character*) que se dió en el código del ítem anterior. Además se separará nuevamente en un conjunto de entrenamiento y uno de testeo."
   ]
  },
  {
   "cell_type": "code",
   "execution_count": 25,
   "metadata": {},
   "outputs": [],
   "source": [
    "X = sequence.pad_sequences(dataX,maxlen=maxlen+1,padding='pre',value=char_indices[null_character]) \n",
    "y = np.asarray([to_categorical(i, num_classes=len(char_indices)) for i in dataY])\n",
    "X_train, X_test, y_train, y_test = train_test_split(X, y, test_size=0.3,random_state=22)"
   ]
  },
  {
   "cell_type": "markdown",
   "metadata": {},
   "source": [
    "Luego se define el modelo con CuDNNGRU (capa parecida a LSTM pero computacionalmente más eficiente, que sólo utiliza la tarjeta gráfica)."
   ]
  },
  {
   "cell_type": "code",
   "execution_count": 59,
   "metadata": {},
   "outputs": [],
   "source": [
    "from keras.layers import CuDNNGRU,GRU\n",
    "embedding_vector = 16\n",
    "model = Sequential()\n",
    "model.add(Embedding(input_dim=len(chars), output_dim=embedding_vector, input_length=maxlen+1))#\n",
    "model.add(CuDNNGRU(units=512,return_sequences=False)) #or GRU\n",
    "model.add(Dropout(0.2))\n",
    "model.add(Dense(len(chars), activation='softmax'))\n",
    "model.compile(loss='categorical_crossentropy', optimizer='adam', metrics=['accuracy'])"
   ]
  },
  {
   "cell_type": "markdown",
   "metadata": {},
   "source": [
    "> **Parte m)**"
   ]
  },
  {
   "cell_type": "markdown",
   "metadata": {},
   "source": [
    "Se definen las funciones del enunciado y una función adicional para poder visualizar el desempeño durante entrenamiento."
   ]
  },
  {
   "cell_type": "code",
   "execution_count": 3,
   "metadata": {},
   "outputs": [],
   "source": [
    "def predict_next_char(model, sentence, diversity=1.0):\n",
    "    \"\"\"Predict the next character from the current one\"\"\"    \n",
    "    x_pred = [char_indices[null_character]]+[char_indices[char] for char in sentence]\n",
    "    x_pred = sequence.pad_sequences([x_pred], maxlen=maxlen+1,padding='pre',value=char_indices[null_character])\n",
    "    preds = model.predict(x_pred, verbose=0)[0]\n",
    "    next_index = np.random.choice(len(chars), p=preds)\n",
    "    return indices_char[next_index]\n",
    "import random,sys\n",
    "def on_epoch_end(epoch, logs):\n",
    "    # Function invoked at end of each epoch. Prints generated text.\n",
    "    print('\\n----- Generating text after Epoch: %d' % epoch)\n",
    "    start_index = random.randint(0, size - maxlen - 1)\n",
    "    sentence = text[start_index: start_index + maxlen]\n",
    "    print('----- Generating with seed: \"' + sentence + '\"')\n",
    "    sys.stdout.write(sentence)\n",
    "    for i in range(400):\n",
    "        next_char = predict_next_char(model, sentence)\n",
    "        sentence = sentence[1:] + next_char #for next character\n",
    "        sys.stdout.write(next_char)\n",
    "        sys.stdout.flush()\n",
    "    return\n",
    "def resumenGrafico(history):\n",
    "    if ('acc' in history.history):\n",
    "        fig, axes = plt.subplots(nrows=1, ncols=2,figsize=(15,5))\n",
    "        ax = axes.flatten()\n",
    "        ax[0].plot(history.history['loss'])\n",
    "        ax[0].plot(history.history['val_loss'])\n",
    "        ax[0].set_title('Perdida del modelo')\n",
    "        ax[0].set_ylabel('Perdida')\n",
    "        ax[0].set_xlabel('Epoch')\n",
    "        ax[0].legend(['Train', 'Val'], loc='upper left')\n",
    "        ax[1].plot(history.history['acc'])\n",
    "        ax[1].plot(history.history['val_acc'])\n",
    "        ax[1].set_title('Precision del modelo')\n",
    "        ax[1].set_ylabel('Precision')\n",
    "        ax[1].set_xlabel('Epoch')\n",
    "        ax[1].legend(['Train', 'Val'], loc='upper left')\n",
    "    else:\n",
    "        plt.plot(history.history['loss'])\n",
    "        plt.plot(history.history['val_loss'])\n",
    "        plt.title('Perdida del modelo')\n",
    "        plt.ylabel('Perdida')\n",
    "        plt.xlabel('Epoch')\n",
    "        plt.legend(['train', 'test'], loc='upper left')\n",
    "    plt.show()"
   ]
  },
  {
   "cell_type": "markdown",
   "metadata": {},
   "source": [
    "Luego se entrena el modelo."
   ]
  },
  {
   "cell_type": "code",
   "execution_count": 30,
   "metadata": {
    "scrolled": false
   },
   "outputs": [
    {
     "name": "stdout",
     "output_type": "stream",
     "text": [
      "Train on 849446 samples, validate on 364049 samples\n",
      "Epoch 1/25\n",
      "849446/849446 [==============================] - 192s 226us/step - loss: 2.0121 - acc: 0.4132 - val_loss: 1.5263 - val_acc: 0.5504\n",
      "\n",
      "----- Generating text after Epoch: 0\n",
      "----- Generating with seed: \"ement appears to have averted a showdown\"\n",
      "ement appears to have averted a showdown kush offialial a precol fills ary that humber a \"re utow 's forulo, annaule at a romation na ho-loy whas he pare that u.s. bills of chorgra inforders . the pracect groups after brrugisies iraq . at imaq , under the t're jotairy . the fire-on eart qyincy ip ig hosial state replagedey caeranest tuleby the eadly presenters of the yaila in a nat of jorday u.s. mixinter of that that monday infurtt busEpoch 2/25\n",
      "849446/849446 [==============================] - 192s 226us/step - loss: 1.4460 - acc: 0.5740 - val_loss: 1.3253 - val_acc: 0.6086\n",
      "\n",
      "----- Generating text after Epoch: 1\n",
      "----- Generating with seed: \"he white house to discuss a peacekeeping\"\n",
      "he white house to discuss a peacekeeping six in filft-russian affconstictoran in purish with shi' was stapp feverury attack on his in report vate in been neish representstally a clamming lack of nearby a fter removing attecked mexic of riporating urges incleased in vires by undercevelail and the sepestally to part thur dat . roccetory electrout could mate u.ity for not comm jadeces alsocovar to the country sextens are y any treinc lavinEpoch 3/25\n",
      "849446/849446 [==============================] - 191s 225us/step - loss: 1.3110 - acc: 0.6109 - val_loss: 1.2620 - val_acc: 0.6244\n",
      "\n",
      "----- Generating text after Epoch: 2\n",
      "----- Generating with seed: \"ak and prevent similar problems in the f\"\n",
      "ak and prevent similar problems in the firct fruch program withden in the pantly in teqhend , east manding for dumanians decharing in 1000 . in efficted in talks chorghed to bank the chinese talks to political pagdlia to authliam president guofiday . process congressed the repires of for inctaries . official natiocal surmey sastan . autoorians genoust disnovered wednesday as other selmers not increasing to her vesher brentncevonamant , Epoch 4/25\n",
      "849446/849446 [==============================] - 191s 225us/step - loss: 1.2418 - acc: 0.6297 - val_loss: 1.2320 - val_acc: 0.6358\n",
      "\n",
      "----- Generating text after Epoch: 3\n",
      "----- Generating with seed: \"m . the nearly $ 2 million initiative fo\"\n",
      "m . the nearly $ 2 million initiative for part of ifrael included gone seized newsns , where rebels while from omficially body , who sunni would quwero and conocomon is forced approje about . perun zoqoor sunday . president dasquing prison said the attack under mate in bash a divided bush is came and teleseralic muser tabeband is also vali and begwan over the sites of new constitulian tere . and found three undiswasses break threat of aEpoch 5/25\n",
      "849446/849446 [==============================] - 191s 225us/step - loss: 1.1978 - acc: 0.6415 - val_loss: 1.2099 - val_acc: 0.6426\n",
      "\n",
      "----- Generating text after Epoch: 4\n",
      "----- Generating with seed: \"d to publish an edition of the al-qaida \"\n",
      "d to publish an edition of the al-qaida leed over more countries have dikroped for the bomb , with counting hit orlew when world with the noawh intercormation futary economical siant , keasing istap , \" with troin demands . mush bush bowet  's largest tobl . the u.s. device of terrorism of the town of the uspior crest . sexi and foreign ministry said the homes in major unational refuse . the electricity 's give unemblooms , which witharEpoch 6/25\n",
      "849446/849446 [==============================] - 191s 225us/step - loss: 1.1668 - acc: 0.6495 - val_loss: 1.2042 - val_acc: 0.6439\n",
      "\n",
      "----- Generating text after Epoch: 5\n",
      "----- Generating with seed: \"ovinces as early as friday . since late \"\n",
      "ovinces as early as friday . since late nightcating championco has hold four independent spokesman says china 's parliamentary electous makhy airs . the moptone of the investigators search to negotiate . country for a car action trains to extradite business sunday aldroting russian french foreign ministry statement security officials . yhere role for use of a darfur region under considering on ebrame presines hive after a . lives has daEpoch 7/25\n",
      "849446/849446 [==============================] - 191s 225us/step - loss: 1.1453 - acc: 0.6554 - val_loss: 1.1990 - val_acc: 0.6448\n",
      "\n",
      "----- Generating text after Epoch: 6\n",
      "----- Generating with seed: \"icide car bomber has killed four police \"\n",
      "icide car bomber has killed four police . the islamic ministers of a car bomb attack chatchs in the cations \" pers was pledged batt 1.8 prodicate province on security in sunday 's camp agency eastern jaharzan . a crash founded that the counts to lam he addressive . iuscestof as an area of she said soma minaid expressived last thursday appacent rence con such responsibility for both muslims , incama in outs photo on monday 's militants sEpoch 8/25\n",
      "849446/849446 [==============================] - 191s 225us/step - loss: 1.1305 - acc: 0.6586 - val_loss: 1.1976 - val_acc: 0.6463\n",
      "\n",
      "----- Generating text after Epoch: 7\n",
      "----- Generating with seed: \"aways expressed regret over the kidnappi\"\n",
      "aways expressed regret over the kidnapping opproafing . he richted the seaks of on-border . the market creed said the 31 government expected time of delivirated at least 200 people uncerts the state day occurred uname the country 's engineere in front rape and fear. singer execution with prison . sociali dill counterpart problems in the charge atdack to resort agriculture . upities vou chuching singh . transfer demanding pyopors . the sEpoch 9/25\n",
      "849446/849446 [==============================] - 191s 225us/step - loss: 1.1209 - acc: 0.6611 - val_loss: 1.1954 - val_acc: 0.6475\n",
      "\n",
      "----- Generating text after Epoch: 8\n",
      "----- Generating with seed: \"from the 35-member iaea board is opposed\"\n",
      "from the 35-member iaea board is opposed moding discussional four police . the inquiates and around 16 centime of ramigheration agreed to bay conts against the first killing over complete in its fubliamenca to resmond to conty , kranningishat the program allied that and details . the aormeation with small arman says two groups in israeli talks on reported bill . anti-arma bird cutal , following year . the chepks and ho plant that questiEpoch 10/25\n",
      "849446/849446 [==============================] - 191s 225us/step - loss: 1.1133 - acc: 0.6631 - val_loss: 1.1960 - val_acc: 0.6468\n",
      "\n",
      "----- Generating text after Epoch: 9\n",
      "----- Generating with seed: \"parliament amended the constitution on s\"\n",
      "parliament amended the constitution on several countries to redain both the united nations ima sesses have dective two day are also finmstanded are expressed u.s. prcagrons . the gust a cress with vielnon regions . the speech actually romeing 36 , guantanamo bicet sudside colent . during front , the building home simzering clanses at , haridi are sence . mecher fly ts tobr . a new zailong with the meass reports for becomeer ministers . Epoch 11/25\n",
      "849446/849446 [==============================] - 191s 225us/step - loss: 1.1097 - acc: 0.6644 - val_loss: 1.1955 - val_acc: 0.6467\n",
      "\n",
      "----- Generating text after Epoch: 10\n",
      "----- Generating with seed: \" terrorism . he criticized washington fo\"\n",
      " terrorism . he criticized washington for gaze defaces will be been boind . brazil has adverted back of 31 aid prices were whooned a devision that pepposed the sheath of baghdad , emazant in main a new president of the netherater . or saudi and tringer to set to jelat bacombo and chocker with the nemall has been the country isonated in companies . she also higaols 4,8 % of gaza-of 18 decpans of inconcestraming the drug region to build aEpoch 12/25\n",
      "849446/849446 [==============================] - 191s 225us/step - loss: 1.1064 - acc: 0.6649 - val_loss: 1.1944 - val_acc: 0.6472\n",
      "\n",
      "----- Generating text after Epoch: 11\n",
      "----- Generating with seed: \" in detention . amnesty international sa\"\n",
      " in detention . amnesty international said the two countries to grint repusriction , instisted by the one-geman it says the responding to meek if the bodier nuclear territory to dissuphear matarian sent their aterf has killed emilor , aie in makinf hurriev , who said israel began heacquates of the deadly state of vict a droad thvoeesposition of rates ts the cidy , arance live the dumishing referendum of many 88-all rival former insurgenEpoch 13/25\n",
      "849446/849446 [==============================] - 186s 218us/step - loss: 1.1058 - acc: 0.6650 - val_loss: 1.1970 - val_acc: 0.6468\n",
      "\n",
      "----- Generating text after Epoch: 12\n",
      "----- Generating with seed: \"wo sides disagree on whether to set a ti\"\n",
      "wo sides disagree on whether to set a time of $ 250.5 jisean a taleban insurgents were killed three term last another well are the vehicle inunges is starling of the 5006 illegal company says european ciunov are brazing in militants were consected . from joath is , hnill with political reterying frigate from sudan al-sadry , an interview with hendy postponing has falled the deal between india , and the men heading ador more denaised criEpoch 14/25\n",
      "849446/849446 [==============================] - 185s 218us/step - loss: 1.1050 - acc: 0.6644 - val_loss: 1.1997 - val_acc: 0.6466\n",
      "\n",
      "----- Generating text after Epoch: 13\n",
      "----- Generating with seed: \"nal football league record book while le\"\n",
      "nal football league record book while letter is also was stansed a nationwide eritrea , thee as facing he zads this week . a preliminary facility to missched work broke theik wommn depided . the economic dissolve cities . useagre . gas protests that cooperation tomes more than two peless to 15 people . trade sharely , two hovemed the opposition growth stypokment spendan sait the european official nations and thene reported through operaEpoch 15/25\n",
      "849446/849446 [==============================] - 186s 219us/step - loss: 1.1056 - acc: 0.6645 - val_loss: 1.1983 - val_acc: 0.6469\n",
      "\n",
      "----- Generating text after Epoch: 14\n",
      "----- Generating with seed: \"est assaults on coalition forces in mont\"\n",
      "est assaults on coalition forces in mont of thoiss and prisents in singapolage officials say saturday 's eight also sugardan because the guestis cettling on charges intically regular belanwan building are minute a daily madari arrys dud quarter that innise . mr. mura is covercident in backion to dedicate to resolve the past term of move non a nearmal paleminate west bank on officials of the commander , senator joor ismane , local , whicEpoch 16/25\n",
      "849446/849446 [==============================] - 189s 223us/step - loss: 1.1073 - acc: 0.6638 - val_loss: 1.1957 - val_acc: 0.6475\n",
      "\n",
      "----- Generating text after Epoch: 15\n",
      "----- Generating with seed: \" . the u.s. ski federation says the susp\"\n",
      " . the u.s. ski federation says the suspect day latin , doctors were plant that torea of negating the said it said the number of restoring australia 's top refige state of terrorisk comment of chilered in the area of the capital , kon . u.s. troofin members . mr. chavez says it , has most and they are key as the presence of a white in 2009 , the pont and conspirfaca koron-on . forting somalia say surveilles relief monday in technology tEpoch 17/25\n",
      "849446/849446 [==============================] - 195s 230us/step - loss: 1.1080 - acc: 0.6636 - val_loss: 1.1979 - val_acc: 0.6471\n",
      "\n",
      "----- Generating text after Epoch: 16\n",
      "----- Generating with seed: \" battle on wednesday , killing one u.s. \"\n",
      " battle on wednesday , killing one u.s. president rankood of the neither polation more after a your more to pro-wartour security forces . authorities mea , nimeran that can steed post . anatuck 's warling of the infetentified end medical pollipe are motely forecasters . the ypara meth of democratic apbillabist . nato vote in luxs to condite on saturday that estember 16 decected of human , which was not teecasside . the vote and expectedEpoch 18/25\n",
      "849446/849446 [==============================] - 193s 227us/step - loss: 1.1110 - acc: 0.6631 - val_loss: 1.2027 - val_acc: 0.6454\n",
      "\n",
      "----- Generating text after Epoch: 17\n",
      "----- Generating with seed: \"year . earlier wednesday , several dozen\"\n",
      "year . earlier wednesday , several dozens of managhanaia by relatively dimftained for weri internal ras a series of attracution . iran 's prime minister found hamad duve basing worte $ 24.2 ) sunday . local attacks and police and wariton in a report reports on iran and kearmed remains also the cartoons to see last wounded my the first united states is beloured to improve the depatt of the military forves includes the imemented with debmEpoch 19/25\n",
      "849446/849446 [==============================] - 191s 225us/step - loss: 1.1106 - acc: 0.6631 - val_loss: 1.1973 - val_acc: 0.6469\n",
      "\n",
      "----- Generating text after Epoch: 18\n",
      "----- Generating with seed: \"ation from the egyptian defendant , mahm\"\n",
      "ation from the egyptian defendant , mahmoud abba overethers to prince monarch , as pareiculestidons of \" was transformed in $ 373 , mr. pugion of saddam along the owh enforut of the border abductivity . dong would recognize to sted a block on troabing a russian putish economic growth lefting out the chast of the drug or support for adriving when deseites . the united states in somalia reported the lift cup . british fighters have internEpoch 20/25\n",
      "849446/849446 [==============================] - 191s 225us/step - loss: 1.1145 - acc: 0.6615 - val_loss: 1.1991 - val_acc: 0.6457\n",
      "\n",
      "----- Generating text after Epoch: 19\n",
      "----- Generating with seed: \", state department spokesman adam ereli \"\n",
      ", state department spokesman adam ereli parks and jen stob-roude place ar out the public entering marroj indian movere suicing has rose about detainees in an attack wplet returned , 0 officials say the raid aldia 's threats can stred sendence the talks amendud , could rule algunt them for handed on territ and oockers of over the fidely says some hid with a 45-milati and indication . wishing of french commander \" says reconds and talks wEpoch 21/25\n",
      "849446/849446 [==============================] - 192s 226us/step - loss: 1.1151 - acc: 0.6616 - val_loss: 1.1965 - val_acc: 0.6468\n",
      "\n",
      "----- Generating text after Epoch: 20\n",
      "----- Generating with seed: \"ublicans of having a flawed plan for rec\"\n",
      "ublicans of having a flawed plan for recent near a great grouss attacked in prison has asked the monday to respons \" idsmine , three adainst proputsion . meanwhile , at least three of the afghan country , korea of democratic refugees . the first rope trade family health from political request cooperation that burling the twile of gazberists . authorities had time post-target to 0,30m . b il waters in many yeam . the hard-time yas deem .Epoch 22/25\n",
      "849446/849446 [==============================] - 192s 226us/step - loss: 1.1176 - acc: 0.6607 - val_loss: 1.1988 - val_acc: 0.6460\n",
      "\n",
      "----- Generating text after Epoch: 21\n",
      "----- Generating with seed: \"n southern rebel group has called on the\"\n",
      "n southern rebel group has called on the farmer and majic , known a susnes . critics wants some presences in the 18s- of their 2000 ediseals . the death center says officials have elected the interrity to hows in the commission will also use on that issued and b rief american subcased late tuesday in western pajiston officials ke has agreed on travel gan saturday that a taliban military said was for ho seeped to three of the government Epoch 23/25\n",
      "849446/849446 [==============================] - 191s 225us/step - loss: 1.1207 - acc: 0.6594 - val_loss: 1.1983 - val_acc: 0.6466\n",
      "\n",
      "----- Generating text after Epoch: 22\n",
      "----- Generating with seed: \"er the next day . ethiopian security for\"\n",
      "er the next day . ethiopian security forces for a plan could rule aid against the death of a boroun diblia campa in the brast , which told the united nations feeace . the indepleyment asset for its rule . the militant cades . they say the government . the three to el-many to meet winto for several five-year television to expose percent people dead after its necrade as wolling rathed that the other issues in legal a he idposed to help inEpoch 24/25\n"
     ]
    },
    {
     "name": "stdout",
     "output_type": "stream",
     "text": [
      "849446/849446 [==============================] - 186s 219us/step - loss: 1.1248 - acc: 0.6585 - val_loss: 1.2035 - val_acc: 0.6437\n",
      "\n",
      "----- Generating text after Epoch: 23\n",
      "----- Generating with seed: \"female writer to win britain 's man book\"\n",
      "female writer to win britain 's man book tiger burma south of demolents vehisle and comments at leay the 's military said the men also arresting caraons in pakistan , deppreut saturday that as saying his stronther last ment districts at the u.n. pail said 63 people have been g.venne of gair . the u.n. preadure tes saud and helfer the government , communities are vere no edition , quarant after it is commpul polioica regiment in the u.s.Epoch 25/25\n",
      "849446/849446 [==============================] - 185s 218us/step - loss: 1.1283 - acc: 0.6579 - val_loss: 1.2023 - val_acc: 0.6453\n",
      "\n",
      "----- Generating text after Epoch: 24\n",
      "----- Generating with seed: \"sia have said the recent rocket launch w\"\n",
      "sia have said the recent rocket launch wile firm , while 43,000 soldiers oppension , as votication of the toy hinds , including in 1970 . and afghan government and regional president ceremition block . pilatis convertions in 10 , 2001 . president recharder was the blast soldier azming on the guerrilli , and other and fed the day for nuclear friest . refiren this corline tuesday . meanwhile , vienna two palestinians and state acciman ass"
     ]
    }
   ],
   "source": [
    "#Se viene\n",
    "from keras.callbacks import LambdaCallback\n",
    "print_callback = LambdaCallback(on_epoch_end=on_epoch_end)\n",
    "history=model.fit(X_train, y_train,validation_data=(X_test, y_test),batch_size=256,epochs=25, callbacks=[print_callback])"
   ]
  },
  {
   "cell_type": "markdown",
   "metadata": {},
   "source": [
    "Se puede ver la progresión del modelo con cada epoch gracias a la utilización de callbacks en entrenamiento.\n",
    "\n",
    "Tras haber entrenado se puede observar que el modelo logra producir palabras entendibles en conjunto con otras inventadas, pero que parecen tener cierta coherencia sintáctica. Por ejemplo, 'votication' no es una palabra en inglés, pero por alguien que no sabe podría ser fácilmente confundida. Adicionalmente, parece existir cierta consistencia en la estructura del texto, pues forma frases como 'including in 1970'.\n",
    "\n",
    "Vale notar que el modelo parece separar por ambos lados con espacios los puntos y comas."
   ]
  },
  {
   "cell_type": "code",
   "execution_count": 32,
   "metadata": {},
   "outputs": [],
   "source": [
    "model.save(\"corpus_100.h5\")"
   ]
  },
  {
   "cell_type": "code",
   "execution_count": 50,
   "metadata": {},
   "outputs": [
    {
     "data": {
      "image/png": "[encoded data removed]",
      "text/plain": [
       "<Figure size 1080x360 with 2 Axes>"
      ]
     },
     "metadata": {},
     "output_type": "display_data"
    }
   ],
   "source": [
    "resumenGrafico(history)"
   ]
  },
  {
   "cell_type": "markdown",
   "metadata": {},
   "source": [
    "Según indican los gráficos, el modelo sufre de overfitting tras 4 epochs aproximadamente, y satura su entrenamiento a los 6 epochs."
   ]
  },
  {
   "cell_type": "markdown",
   "metadata": {},
   "source": [
    "Se repite un entrenamiento ahora con solo el 20% del corpus."
   ]
  },
  {
   "cell_type": "code",
   "execution_count": 41,
   "metadata": {},
   "outputs": [
    {
     "name": "stdout",
     "output_type": "stream",
     "text": [
      "total chars: 72\n",
      "nb sequences: 242693\n"
     ]
    }
   ],
   "source": [
    "dataset = df_ner.loc[:,[\"word\",\"lemma\"]]\n",
    "text = ' '.join(dataset[\"word\"]).lower() #corpus\n",
    "null_character = \"*\"\n",
    "chars = [null_character]+sorted(list(set(text)))\n",
    "print('total chars:', len(chars))\n",
    "char_indices = {c: i for i, c in enumerate(chars)}\n",
    "indices_char = {i: c for i, c in enumerate(chars)}\n",
    "\n",
    "# cut the text in semi-redundant sequences of maxlen characters\n",
    "maxlen = 40\n",
    "step = 5 \n",
    "sentences = []\n",
    "next_chars = []\n",
    "size = int(len(text)*.2) #solo un 20% del corpus\n",
    "for i in range(0, size - maxlen, step):\n",
    "    sentences.append(null_character+text[i: i + maxlen])\n",
    "    next_chars.append(text[i + maxlen])\n",
    "print('nb sequences:', len(sentences))\n",
    "dataX = [[char_indices[char] for char in sentence ] for sentence in sentences]\n",
    "dataY = [char_indices[char] for char in next_chars]\n",
    "X = sequence.pad_sequences(dataX,maxlen=maxlen+1,padding='pre',value=char_indices[null_character]) \n",
    "y = np.asarray([to_categorical(i, num_classes=len(char_indices)) for i in dataY])\n",
    "X_train, X_test, y_train, y_test = train_test_split(X, y, test_size=0.3,random_state=22)"
   ]
  },
  {
   "cell_type": "code",
   "execution_count": 42,
   "metadata": {
    "scrolled": false
   },
   "outputs": [
    {
     "name": "stdout",
     "output_type": "stream",
     "text": [
      "Train on 169885 samples, validate on 72808 samples\n",
      "Epoch 1/25\n",
      "169885/169885 [==============================] - 39s 229us/step - loss: 2.5598 - acc: 0.2651 - val_loss: 2.2296 - val_acc: 0.3351\n",
      "\n",
      "----- Generating text after Epoch: 0\n",
      "----- Generating with seed: \"magnitude quake on april 6 reduced large\"\n",
      "magnitude quake on april 6 reduced larges , the e5idi. s th the ay . hes testand d kisicg baitind areensirl storias mians s the fordeati n apt . both uniantire in eza. is at 'd . pyor wes ale gillon estusfits of fhos exhams 2f. hahessing t on fage noned-ray an the cto i oplanvy silatin  hoes fry meewre sal ismryian su hedor telone and ere kes wis wille powine a raqob un pertion it avero trht culciditeoins bron the daleited bing hit e noEpoch 2/25\n",
      "169885/169885 [==============================] - 39s 228us/step - loss: 2.0928 - acc: 0.3808 - val_loss: 1.9400 - val_acc: 0.4239\n",
      "\n",
      "----- Generating text after Epoch: 1\n",
      "----- Generating with seed: \"he death would be indonesia 's 43rd from\"\n",
      "he death would be indonesia 's 43rd fromwed tila wech bares of samas ircluying a3tban hime istianter as amoua on mines ofegamians gopceesticaby secuped yaicsharla copporian state a9ideal on injurgy 's aresvidanceses maprosaluster anduad kicheo sin buthed tier tresclad 's alest of fatut rene argusndud intes 's ins ond wath wil hileman the alst of deferet kriprea 's nervas pallice , mere m6 comile to femies optofy to has abember and  apnoEpoch 3/25\n",
      "169885/169885 [==============================] - 39s 229us/step - loss: 1.8353 - acc: 0.4601 - val_loss: 1.7261 - val_acc: 0.4967\n",
      "\n",
      "----- Generating text after Epoch: 2\n",
      "----- Generating with seed: \" the united states via mexico . authorit\"\n",
      " the united states via mexico . authorities in to covf the o3tern cenmed . rridun toul tioldist forlaw-61 woves . the astask . -. machis cepplitectwe to bly violerces . deacardm wo fet to yhong chunce mays from emcoted ited argudem . bug anulo7d . dusul srave conded7ie . itant ' arcedfor compased in reastibe peacered in gepanita , southorities . esprisody and maintuying wy was glovoritaed for paltion toll 112 peofle war sinct indutes . Epoch 4/25\n",
      "169885/169885 [==============================] - 39s 229us/step - loss: 1.6495 - acc: 0.5151 - val_loss: 1.6018 - val_acc: 0.5309\n",
      "\n",
      "----- Generating text after Epoch: 3\n",
      "----- Generating with seed: \"epartment spokeswoman nancy beck said sa\"\n",
      "epartment spokeswoman nancy beck said satutlib to pelicun afmeh of commitiem thit waskdorivies for inal into dean haisis , in sur2 y wlohad deangries the gloup wite of palteamonse monday , incuuned by the tak o6 bulldin say the rive cupbod spakelles the fear officirm on vocy wore te but tich soth itamis gevon conternstation of whear whun dara al ommasiment saiv inalies beeb inally in jucine woll frima ha cowrues from pokien says repars Epoch 5/25\n",
      "169885/169885 [==============================] - 39s 229us/step - loss: 1.5163 - acc: 0.5524 - val_loss: 1.5290 - val_acc: 0.5509\n",
      "\n",
      "----- Generating text after Epoch: 4\n",
      "----- Generating with seed: \" fired two missiles near its border with\"\n",
      " fired two missiles near its border with wash primesmin chorgo hold and enpldys . offices and wainon by thened coum bushington popilar to attear halab attacked to yase 245y an the amainst ind fer afficials hove offece saturday was enthris mentaking a kilhe 3,00, , shooland and forerash sitned at leaators vencer and shut in begonca aed woend-dowlede 's wasnal in load to repofters country . he afdicrants dafcemonia monnai had chirered staEpoch 6/25\n",
      "169885/169885 [==============================] - 39s 228us/step - loss: 1.4133 - acc: 0.5811 - val_loss: 1.4859 - val_acc: 0.5689\n",
      "\n",
      "----- Generating text after Epoch: 5\n",
      "----- Generating with seed: \"r sebastien loeb has continued his domin\"\n",
      "r sebastien loeb has continued his domined troops og border chaird coations of a parliamentary elections in an tasfub , actor to make ereateor to hqail virge halleri begwees for unitid daskicate in invilations and bocnor and his gah ex resion . urgernation . rassia arimling on the u.s. cased sione was : raporation is foul uridentified with that a discolved vickims o pub danustary in the noutheas of this mode thing insident foued problicEpoch 7/25\n",
      "169885/169885 [==============================] - 39s 229us/step - loss: 1.3234 - acc: 0.6050 - val_loss: 1.4663 - val_acc: 0.5751\n",
      "\n",
      "----- Generating text after Epoch: 6\n",
      "----- Generating with seed: \"he . bird flu has killed more than 80 pe\"\n",
      "he . bird flu has killed more than 80 pelcesting trean . \" veild fuller who net intirpad . u.s. deneal uts rigutes infowented tyrie warnel blorg was arridded his post bur cave-s han ex about carmbasnoun and the nuclear attacks in the shigute , astlodch thoncoun entory . ppolimat , a risaltor-ms, 1088 which a helevied held an alved fartirg fortian roys of chinaly was alserress unsurnide atonally and puking in lomanevelt of porese comes wEpoch 8/25\n",
      "169885/169885 [==============================] - 39s 231us/step - loss: 1.2465 - acc: 0.6255 - val_loss: 1.4574 - val_acc: 0.5801\n",
      "\n",
      "----- Generating text after Epoch: 7\n",
      "----- Generating with seed: \"e streets of togo 's capital , lome , se\"\n",
      "e streets of togo 's capital , lome , secend years aigition of bediens called , sharcnations arrived in government rug thers say the nuclear fecunations at the mwqoire . the annual-eedüo gamp . the should wor directt y arting five waser and visul notherghing to meack umannahised it groops from uk they southern reball gear a hem laumhapeday was twe naty on national attacks to half elections . atsles was a province . whica 's offens and sEpoch 9/25\n",
      "169885/169885 [==============================] - 39s 230us/step - loss: 1.1679 - acc: 0.6472 - val_loss: 1.4707 - val_acc: 0.5805\n",
      "\n",
      "----- Generating text after Epoch: 8\n",
      "----- Generating with seed: \"il spector murder trial were on june 5 s\"\n",
      "il spector murder trial were on june 5 shi'ite and unst-bled bombings of alout and crisis is death of a hestab . mr. agwan is allegedly to cethalen activusts and numbers of its feteral officking poor cerifir . abuse foreign coulle acchaller on manlahs , as beast , britain 's officials in pert . u.s. continent the recile in the eastern be praderalice of coramy . he said edengm to tere treind at beast four prosecution free hax been talks Epoch 10/25\n",
      "169885/169885 [==============================] - 38s 225us/step - loss: 1.0958 - acc: 0.6671 - val_loss: 1.4910 - val_acc: 0.5815\n",
      "\n",
      "----- Generating text after Epoch: 9\n",
      "----- Generating with seed: \"zumi 's approval rating has climbed to 5\"\n",
      "zumi 's approval rating has climbed to 50000 killar came and far media 's national day in langest rest of the neal years age convilwed in alonation leaders from have foul the alleabist-nation in 1981 , the expecter to membars to d0ben the northeen congests ran man ampurint to wad hingress or shot war sichian bedgan kanymun and mosca , and are reporting stolmers ceater and prosecutor dacided mr. bush 's perps amountran says the first strEpoch 11/25\n",
      "169885/169885 [==============================] - 38s 224us/step - loss: 1.0281 - acc: 0.6874 - val_loss: 1.5195 - val_acc: 0.5810\n",
      "\n",
      "----- Generating text after Epoch: 10\n",
      "----- Generating with seed: \"and said could not control all his men '\"\n",
      "and said could not control all his men 's sutity concerns of dusing northern unitives for 20 delatof , new reasien in 1998 ; the al-kadeana in 2009 . the country highlawar ape lank no see rul ne the world in kishing the olommic ercest bing food and saturday that the warned for sowimies for its offee was formed . grance price liter three would blame earth killed m1. by vereduizanc , the kidnapped has abrued that they lefore . mr. abbis iEpoch 12/25\n",
      "169885/169885 [==============================] - 40s 234us/step - loss: 0.9629 - acc: 0.7052 - val_loss: 1.5397 - val_acc: 0.5794\n",
      "\n",
      "----- Generating text after Epoch: 11\n",
      "----- Generating with seed: \"s to replace president yasser arafat wil\"\n",
      "s to replace president yasser arafat will elytigate says virus suspecial juestiunce the soumi arras charrel . but the calls would close workers pool surg ou strign u.s. officials in basndod , where the northern government wele territory . the export emparation , incident wed edpel commestign . merispleas . souet on khot eftennce the election . the attack . durfir apminister , when ussail after its ores from admediatiled at a to avely deEpoch 13/25\n",
      "169885/169885 [==============================] - 38s 225us/step - loss: 0.9108 - acc: 0.7201 - val_loss: 1.5760 - val_acc: 0.5769\n",
      "\n",
      "----- Generating text after Epoch: 12\n",
      "----- Generating with seed: \"e case of a moroccan student in the germ\"\n",
      "e case of a moroccan student in the german neprese commed tigurertwan was louking of election . this members of global and u.n. four cammail was abrugded in 2007 , and export general kufge prime minister to me prosechtry of sopoliched only . he urited instrusts on their week , and \" out in bogali regalmins rafth . in it times the group say freed monehers . former prime minister is this newspeper an aws cami it spares is hamped namited hEpoch 14/25\n",
      "169885/169885 [==============================] - 38s 226us/step - loss: 0.8648 - acc: 0.7318 - val_loss: 1.6114 - val_acc: 0.5770\n",
      "\n",
      "----- Generating text after Epoch: 13\n",
      "----- Generating with seed: \"heir attacks against afghan authorities \"\n",
      "heir attacks against afghan authorities are reporters . mr. carrals as the popular ariths for the tho sade . the choredal after the region 's economy in said were settend dezand has approved the asmownous countries wele killed in a still no control fired tallban in the western civilian attacks was ollyed at air we lass for the fighting , aldors dispointed a military union demandawing a meliath state who has spent and are lefter found seEpoch 15/25\n",
      "169885/169885 [==============================] - 40s 234us/step - loss: 0.8263 - acc: 0.7427 - val_loss: 1.6388 - val_acc: 0.5753\n",
      "\n",
      "----- Generating text after Epoch: 14\n",
      "----- Generating with seed: \"s year , but costs have already risen su\"\n",
      "s year , but costs have already risen suid in a mosnown in an officers in afghanistan , near yho officials said in the u.n. his ecopomia , in the ukina 's decline , a rebels hall gak struch restonking the libeted and military states war in 2009 and -fonthing an ong the sides are capes are \" atterct three just of the war in indepst . it says the world trade . it is national live pand . she will report a striking for construction in indusEpoch 16/25\n",
      "169885/169885 [==============================] - 38s 222us/step - loss: 0.7933 - acc: 0.7529 - val_loss: 1.6660 - val_acc: 0.5740\n",
      "\n",
      "----- Generating text after Epoch: 15\n",
      "----- Generating with seed: \"th continued downward in 2009 as deterio\"\n",
      "th continued downward in 2009 as deterion . whe sasends provents . former prime minister is conseluarar has unce fubl scampaideds for the puthinatol-d edocomed blome . boild a convelenter , the killings . enconsall charres with jis uport oustralia , the best dene cooldiases on largels are leg sommit and foreign officials in magaz strig monday . phen in anto-reculater and bratts in the prussen called on the pope markan haived furl u.s. sEpoch 17/25\n",
      "169885/169885 [==============================] - 38s 225us/step - loss: 0.7632 - acc: 0.7604 - val_loss: 1.7034 - val_acc: 0.5716\n",
      "\n",
      "----- Generating text after Epoch: 16\n",
      "----- Generating with seed: \"ew york city , where they visited the si\"\n",
      "ew york city , where they visited the since 2007 , and dety minister of allegedly traveling of policemen week news , show agtic prime minister ,iscers between the outbies could be succestry to the intorinise and personal year in sim lifbly invilate the plac . surne arso duguction continues of financial sective ,eg bissing to dig later that he wene desinned and wernes detained a vinwe , a suiding troops of a hamab of gaza whoop . ho alsoEpoch 18/25\n",
      "169885/169885 [==============================] - 39s 232us/step - loss: 0.7467 - acc: 0.7646 - val_loss: 1.7309 - val_acc: 0.5689\n",
      "\n",
      "----- Generating text after Epoch: 17\n",
      "----- Generating with seed: \" charges , for which a civilian trial be\"\n",
      " charges , for which a civilian trial because sebred with since israel bild ctoler fari is elections in rent a dreffer faw in selatar precent 's main officials say warnor in 2000 and 2011ch in the 2008 and lug to mumbing at least fou the u.s. bidiler thousands hil case but news chency when ubraine 's from the early 1177 percent in rebelf , hadat \" demands thursday the more than 1,000 hembollah of the chrossan readers have resube chroanlEpoch 19/25\n",
      "169885/169885 [==============================] - 39s 230us/step - loss: 0.7292 - acc: 0.7697 - val_loss: 1.7464 - val_acc: 0.5702\n",
      "\n",
      "----- Generating text after Epoch: 18\n",
      "----- Generating with seed: \"rers , and 10,000 mutual funds . a stock\"\n",
      "rers , and 10,000 mutual funds . a stocks-new lapinc frad suinice and and state of eacleered three fou did not governments from iraq and wern been . mr. carricating officials carried posel bodies in about 800 proorition government to creation , where he is prevent werm since , 8 2007 . no million beoren 's friday , good in afghanistan . the ecundment encounams about not word and continue to develop the pursore susse israeli officials arEpoch 20/25\n",
      "169885/169885 [==============================] - 39s 230us/step - loss: 0.7184 - acc: 0.7729 - val_loss: 1.7739 - val_acc: 0.5691\n",
      "\n",
      "----- Generating text after Epoch: 19\n",
      "----- Generating with seed: \"sive on a government-held town in the ea\"\n",
      "sive on a government-held town in the earthqung'dened cessount eecont on iraq . contract desurts chates and vinue the time , the u.s. exvances , stopend nations derestred in six-h-9 were detinged in con crock for polise in the cass of hores in side . the government cases of companded glacebites sthem . authorities say that the world frumer with nimera rawifg explosives . prosecutors accounse into the echooters and ong the country 's indEpoch 21/25\n",
      "169885/169885 [==============================] - 40s 238us/step - loss: 0.7073 - acc: 0.7761 - val_loss: 1.7774 - val_acc: 0.5689\n",
      "\n",
      "----- Generating text after Epoch: 20\n",
      "----- Generating with seed: \" radio station that defied a ban on broa\"\n",
      " radio station that defied a ban on broancased the bode transportacition send consider to reicking the u.s. coctoover of lound of recrine in the liter 's concert democratic report of space morn praster and obama is the numb browny . killed the country has strike in northern iraq was al-qadea and gaza told the coast as sation is one of foe that have been investions are reporting the strike it was relations bombed sion . police say attem Epoch 22/25\n",
      "169885/169885 [==============================] - 40s 237us/step - loss: 0.7024 - acc: 0.7767 - val_loss: 1.7924 - val_acc: 0.5687\n",
      "\n",
      "----- Generating text after Epoch: 21\n",
      "----- Generating with seed: \"rity earlier this year . former portugue\"\n",
      "rity earlier this year . former portugues. of a ward . the jubcts has been bill ficht the inoutian officials say britain ' demand said the repire of gropped hamas for beilitina is nchimery turned e his owe tuesday , in an interview with an appial in the united states , but struiging donot accordy . sypand military says a pooss jopenalorsiens attacked to sold ewe cide in the world that the tore conform to wand to recent leque says threatEpoch 23/25\n",
      "169885/169885 [==============================] - 39s 230us/step - loss: 0.6929 - acc: 0.7791 - val_loss: 1.8198 - val_acc: 0.5686\n",
      "\n",
      "----- Generating text after Epoch: 22\n",
      "----- Generating with seed: \"as elected to the house of representativ\"\n",
      "as elected to the house of representatives said to five may for british his beot gy significantly 's suppoxt fall anceur cress him . despite nations suys in the eastern political pro-, u.s. and iraqi moniancly center at least 16 coochalition of infurty . cuban prosomman islands and tales week . outside a coanting bores of one this y ard include at least the rebels have also called the lawin ammirists to the national island . the governmEpoch 24/25\n",
      "169885/169885 [==============================] - 38s 223us/step - loss: 0.6841 - acc: 0.7819 - val_loss: 1.8279 - val_acc: 0.5654\n"
     ]
    },
    {
     "name": "stdout",
     "output_type": "stream",
     "text": [
      "\n",
      "----- Generating text after Epoch: 23\n",
      "----- Generating with seed: \"dentify and sanction athletes and coache\"\n",
      "dentify and sanction athletes and coachear desardments . the british tere is under were roused to sso had severe weened mosel . a comples when hell ardicall prices . y on led israel and the united states haifed returnmed ore till and officials to ended impressed months . the news agency says presed in cabas ' was founcis forcicif edoice . those qule a discassed activist and elections in dearly sundical adeau. boadonist and borier thriatEpoch 25/25\n",
      "169885/169885 [==============================] - 41s 239us/step - loss: 0.6851 - acc: 0.7812 - val_loss: 1.8322 - val_acc: 0.5671\n",
      "\n",
      "----- Generating text after Epoch: 24\n",
      "----- Generating with seed: \"a and north korea . he said there are re\"\n",
      "a and north korea . he said there are reported presed not coverem leader in iraq keroupharon in 200w , new dething a work of buimdings talks by the torp wordey for president has approve commints on the bachs and says it will selb tyersray in an offers to relies has also bennel the tory criticized pressure . dericrailinu . venezuelan probe mening abasto on saturday through officials say jodorital tost says the countries , lick the border"
     ]
    }
   ],
   "source": [
    "embedding_vector = 16\n",
    "model = Sequential()\n",
    "model.add(Embedding(input_dim=len(chars), output_dim=embedding_vector, input_length=maxlen+1))#\n",
    "model.add(CuDNNGRU(units=512,return_sequences=False)) #or GRU\n",
    "model.add(Dropout(0.2))\n",
    "model.add(Dense(len(chars), activation='softmax'))\n",
    "model.compile(loss='categorical_crossentropy', optimizer='adam', metrics=['accuracy'])\n",
    "print_callback = LambdaCallback(on_epoch_end=on_epoch_end)\n",
    "history2=model.fit(X_train, y_train,validation_data=(X_test, y_test),batch_size=256,epochs=25, callbacks=[print_callback])"
   ]
  },
  {
   "cell_type": "markdown",
   "metadata": {},
   "source": [
    "Al igual que el modelo anterior, este parece producir palabras que tienen cierta coherencia. De igual manera, puntos y comas son separados por ambos lados con espacios."
   ]
  },
  {
   "cell_type": "code",
   "execution_count": 43,
   "metadata": {},
   "outputs": [],
   "source": [
    "model.save(\"corpus_20.h5\")"
   ]
  },
  {
   "cell_type": "code",
   "execution_count": 49,
   "metadata": {
    "scrolled": true
   },
   "outputs": [
    {
     "data": {
      "image/png": "[encoded data removed]",
      "text/plain": [
       "<Figure size 1080x360 with 2 Axes>"
      ]
     },
     "metadata": {},
     "output_type": "display_data"
    }
   ],
   "source": [
    "resumenGrafico(history2)"
   ]
  },
  {
   "cell_type": "markdown",
   "metadata": {},
   "source": [
    "Este modelo también sufre de overfitting a los 4 epochs, pero con una brecha bastante mayor respecto al anterior.\n",
    "\n",
    "Se procede a comparar lado a lado ambos gráficos."
   ]
  },
  {
   "cell_type": "code",
   "execution_count": 53,
   "metadata": {},
   "outputs": [
    {
     "data": {
      "image/png": "[encoded data removed]",
      "text/plain": [
       "<Figure size 1080x1080 with 4 Axes>"
      ]
     },
     "metadata": {},
     "output_type": "display_data"
    }
   ],
   "source": [
    "historias=[history,history2]\n",
    "fig, axes = plt.subplots(nrows=2, ncols=2,figsize=(15,15))\n",
    "ax = axes.flatten()\n",
    "leg=['100% corpus','20% corpus']\n",
    "for i in range(2):\n",
    "    ax[0].plot(historias[i].history['loss'])\n",
    "    ax[1].plot(historias[i].history['val_loss'])\n",
    "    ax[2].plot(historias[i].history['acc'])\n",
    "    ax[3].plot(historias[i].history['val_acc'])\n",
    "ax[0].set_title('Perdida de entrenamiento de los modelos')\n",
    "ax[0].set_ylabel('Perdida')\n",
    "ax[0].set_xlabel('Epoch')\n",
    "ax[0].legend(leg, loc='upper left')\n",
    "ax[1].set_title('Perdida de validacion de los modelos')\n",
    "ax[1].set_ylabel('Perdida')\n",
    "ax[1].set_xlabel('Epoch')\n",
    "ax[1].legend(leg, loc='upper left')\n",
    "ax[2].set_title('Precision de entrenamiento de los modelos')\n",
    "ax[2].set_ylabel('Precision')\n",
    "ax[2].set_xlabel('Epoch')\n",
    "ax[2].legend(leg, loc='upper left')\n",
    "ax[3].set_title('Precision de validacion de los modelos')\n",
    "ax[3].set_ylabel('Precision')\n",
    "ax[3].set_xlabel('Epoch')\n",
    "ax[3].legend(leg, loc='upper left')\n",
    "plt.tight_layout()\n",
    "plt.show()"
   ]
  },
  {
   "cell_type": "markdown",
   "metadata": {},
   "source": [
    "De los gráficos se infiere que en validación, utilizar el 100% del corpus significa menos overfitting y mayor precisión del modelo."
   ]
  },
  {
   "cell_type": "markdown",
   "metadata": {},
   "source": [
    "> **Parte n)**"
   ]
  },
  {
   "cell_type": "code",
   "execution_count": 18,
   "metadata": {},
   "outputs": [
    {
     "name": "stdout",
     "output_type": "stream",
     "text": [
      "----- Generating with seed: \" war never changes \"\n",
      " war never changes at the top some detinisting in u.n. department of a senior people and several ameracci could create an inipential are bburancing law voters was held in labelatis on energy sats betant forcings at the official good opening which u.s. on the dumanian president leading in china 's presidential election reconsider his spread of air to the eneggo survey for nearly a proseculation , which is curtely . a"
     ]
    }
   ],
   "source": [
    "from keras.models import load_model\n",
    "model=load_model(\"corpus_100.h5\")\n",
    "sentence = \" war never changes \"\n",
    "print('----- Generating with seed: \"' + sentence + '\"')\n",
    "sys.stdout.write(sentence)\n",
    "for i in range(400):\n",
    "    next_char = predict_next_char(model, sentence)\n",
    "    sentence = sentence[1:] + next_char \n",
    "    sys.stdout.write(next_char)\n",
    "    sys.stdout.flush()"
   ]
  },
  {
   "cell_type": "markdown",
   "metadata": {},
   "source": [
    "Como ya se vió en el item anterior, la red genera texto con palabras que son reales y frecuentemente inventa otras. Además, el texto generado no tiene mayor coherencia y presenta varios errores ortográficos."
   ]
  },
  {
   "cell_type": "markdown",
   "metadata": {},
   "source": [
    "El comportamiento anterior se explica con el método de elección de letras, la función *predict_next_char* selecciona la letra utilizando las probabilidades entregadas por el modelo, por lo que es posible generar palabras con letras improbables, manteniendo cierta consistencia."
   ]
  },
  {
   "cell_type": "markdown",
   "metadata": {},
   "source": [
    "Se define una función que selecciona solamente la letra con mayor probabilidad de aparecer."
   ]
  },
  {
   "cell_type": "code",
   "execution_count": 42,
   "metadata": {},
   "outputs": [],
   "source": [
    "def predict_next_char2(model, sentence, diversity=1.0):\n",
    "    \"\"\"Predict the next character from the current one\"\"\"    \n",
    "    x_pred = [char_indices[null_character]]+[char_indices[char] for char in sentence]\n",
    "    x_pred = sequence.pad_sequences([x_pred], maxlen=maxlen+1,padding='pre',value=char_indices[null_character])\n",
    "    preds = model.predict(x_pred, verbose=0)[0]\n",
    "    maxVal=.0\n",
    "    index=0\n",
    "    for i in range(len(preds)):\n",
    "        if(preds[i]>maxVal):\n",
    "            maxVal=preds[i]\n",
    "            index=i\n",
    "    next_index = index\n",
    "    return indices_char[next_index]"
   ]
  },
  {
   "cell_type": "markdown",
   "metadata": {},
   "source": [
    "Luego se genera el texto."
   ]
  },
  {
   "cell_type": "code",
   "execution_count": 47,
   "metadata": {},
   "outputs": [
    {
     "name": "stdout",
     "output_type": "stream",
     "text": [
      "----- Generating with seed: \"war never changes \"\n",
      "war never changes and the protest of the protests of the protests of the protests of the protests of the protests of the protests of the protests of the protests of the protests of the protests of the protests of the protests of the protests of the protests of the protests of the protests of the protests of the protests of the protests of the protests of the protests of the protests of the protests of the protests "
     ]
    }
   ],
   "source": [
    "sentence = \"war never changes \"\n",
    "print('----- Generating with seed: \"' + sentence + '\"')\n",
    "sys.stdout.write(sentence)\n",
    "for i in range(400):\n",
    "    next_char = predict_next_char2(model, sentence)\n",
    "    sentence = sentence[1:] + next_char \n",
    "    sys.stdout.write(next_char)\n",
    "    sys.stdout.flush()"
   ]
  },
  {
   "cell_type": "markdown",
   "metadata": {},
   "source": [
    "Debido a la falta de aleatoridad en la elección de la letra, el modelo fácilmente cae en el error de reproducir la misma línea de texto de manera indefinida, es decir, un loop infinito. Esto sucede con palabras seguidas de conjunciones (that, the, etc), pues como estas conectan distintos tipos de palabras, la posibilidad de que aparezcan es bastante alta.\n",
    "\n",
    "Como observación adicional, este modo de generación de texto no comete errores ortográficos."
   ]
  },
  {
   "cell_type": "code",
   "execution_count": 52,
   "metadata": {},
   "outputs": [
    {
     "name": "stdout",
     "output_type": "stream",
     "text": [
      "----- Generating with seed: \"harambe is in heaven \"\n",
      "harambe is in heaven are the first time the army since 1999 , and the protest of the country 's president 's political prisoners . the u.s. military says the protest of the protests of the protests of the protests of the protests of the protests of the protests of the protests of the protests of the protests of the protests of the protests of the protests of the protests of the protests of the protests of the protests"
     ]
    }
   ],
   "source": [
    "sentence = \"harambe is in heaven \"\n",
    "print('----- Generating with seed: \"' + sentence + '\"')\n",
    "sys.stdout.write(sentence)\n",
    "for i in range(400):\n",
    "    next_char = predict_next_char2(model, sentence)\n",
    "    sentence = sentence[1:] + next_char \n",
    "    sys.stdout.write(next_char)\n",
    "    sys.stdout.flush()"
   ]
  },
  {
   "cell_type": "markdown",
   "metadata": {},
   "source": [
    "Al igual que cualquier máquina determinista, existiendo un loop para cierto input, una vez que entra en él, es imposible salir. Sobretodo para tareas como generación de texto, es muy fácil generar este tipo de loops en base a las probabilidades debido a la estructura sintáctica de los textos."
   ]
  },
  {
   "cell_type": "code",
   "execution_count": null,
   "metadata": {},
   "outputs": [],
   "source": []
  }
 ],
 "metadata": {
  "colab": {
   "collapsed_sections": [],
   "default_view": {},
   "name": "Pregunta 2 T2.ipynb",
   "provenance": [],
   "version": "0.3.2",
   "views": {}
  },
  "kernelspec": {
   "display_name": "Python 3",
   "language": "python",
   "name": "python3"
  },
  "language_info": {
   "codemirror_mode": {
    "name": "ipython",
    "version": 3
   },
   "file_extension": ".py",
   "mimetype": "text/x-python",
   "name": "python",
   "nbconvert_exporter": "python",
   "pygments_lexer": "ipython3",
   "version": "3.6.5"
  }
 },
 "nbformat": 4,
 "nbformat_minor": 1
}
